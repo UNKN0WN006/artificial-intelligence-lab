{
  "nbformat": 4,
  "nbformat_minor": 0,
  "metadata": {
    "colab": {
      "provenance": []
    },
    "kernelspec": {
      "name": "python3",
      "display_name": "Python 3"
    },
    "language_info": {
      "name": "python"
    }
  },
  "cells": [
    {
      "cell_type": "markdown",
      "source": [
        "## **Tower of Hanoi Problem using BFS (Breadth-First-Search algorithm)**"
      ],
      "metadata": {
        "id": "1dZLMSbH4ph9"
      }
    },
    {
      "cell_type": "code",
      "source": [
        "from collections import deque\n",
        "import csv"
      ],
      "metadata": {
        "id": "wYDV1av7A_Xa"
      },
      "execution_count": 39,
      "outputs": []
    },
    {
      "cell_type": "code",
      "source": [
        "def init_state(num_discs, init_rod, init_order):\n",
        "    rods = [[], [], []]\n",
        "    discs = list(range(1, num_discs + 1))\n",
        "    if init_order == \"decreasing\":\n",
        "        discs = discs[::-1]\n",
        "    rods[init_rod] = discs\n",
        "    return tuple(tuple(rod) for rod in rods)"
      ],
      "metadata": {
        "id": "ScIeXF_NQuod"
      },
      "execution_count": 40,
      "outputs": []
    },
    {
      "cell_type": "code",
      "source": [
        "def get_goal_state(num_discs, final_rod, final_order):\n",
        "    rods = [[], [], []]\n",
        "    discs = list(range(1, num_discs + 1))\n",
        "    if final_order == \"decreasing\":\n",
        "        discs = discs[::-1]\n",
        "    rods[final_rod] = discs\n",
        "    return tuple(tuple(rod) for rod in rods)"
      ],
      "metadata": {
        "id": "pNy1YX09QxKm"
      },
      "execution_count": 41,
      "outputs": []
    },
    {
      "cell_type": "code",
      "source": [
        "def valid_move(state, from_rod, to_rod):\n",
        "    if not state[from_rod]:\n",
        "        return False\n",
        "    if not state[to_rod]:\n",
        "        return True\n",
        "    return state[from_rod][-1] < state[to_rod][-1]"
      ],
      "metadata": {
        "id": "9SDzLkykQzwc"
      },
      "execution_count": 42,
      "outputs": []
    },
    {
      "cell_type": "code",
      "source": [
        "def bfs_hanoi(num_discs, init_rod, init_order, final_rod, final_order, output_file, max_steps=None):\n",
        "    init_state_tuple = init_state(num_discs, init_rod, init_order)\n",
        "    goal_state_tuple = get_goal_state(num_discs, final_rod, final_order)\n",
        "    queue = deque([(init_state_tuple, [])])\n",
        "    visited = set()\n",
        "    visited.add(init_state_tuple)\n",
        "    output_rows = []\n",
        "    step_count = 0\n",
        "    found = False\n",
        "    solution_path_length = -1\n",
        "\n",
        "    output_rows.append([\"S.No.\", \"Rod 0\", \"Rod 1\", \"Rod 2\", \"Move\"])\n",
        "\n",
        "    while queue:\n",
        "        if max_steps is not None and step_count >= max_steps:\n",
        "            output_rows.append([f\"Max steps ({max_steps}) reached before finding a solution.\", \"\", \"\", \"\", \"\"])\n",
        "            break\n",
        "\n",
        "        state, path = queue.popleft()\n",
        "        move_desc = \"\"\n",
        "\n",
        "        if path:\n",
        "            fr, to = path[-1]\n",
        "            # Determining the moved disc by comparing the current state with the previous state's rod 'from_rod' and the current state's rod 'to_rod'. The moved disc is the one present in 'to_rod' now that was previously at the top of 'from_rod'.\n",
        "            prev_state_list = [list(rod) for rod in state]\n",
        "            moved_disc = None\n",
        "            if prev_state_list[to]: # Ensuring to_rod is not empty in the current state\n",
        "                moved_disc = prev_state_list[to][-1] # The disc moved is the top one on the 'to' rod in the current state\n",
        "\n",
        "            if moved_disc is not None:\n",
        "                 move_desc = f\"Move disc {moved_disc} from Rod {fr} to Rod {to}\"\n",
        "            else:\n",
        "                 move_desc = f\"Move from Rod {fr} to Rod {to}\" # Fallback if disc can't be identified\n",
        "        else:\n",
        "            move_desc = \"Initial state\"\n",
        "        output_rows.append([step_count + 1, list(state[0]), list(state[1]), list(state[2]), move_desc])\n",
        "\n",
        "        if state == goal_state_tuple:\n",
        "            found = True\n",
        "            solution_path_length = len(path)\n",
        "            output_rows.append([f\"Goal state reached after exploring {step_count + 1} states.\", \"\", \"\", \"\", f\"Solution path length: {solution_path_length} moves.\"])\n",
        "            break\n",
        "\n",
        "        for from_rod in range(3):\n",
        "            for to_rod in range(3):\n",
        "                if from_rod != to_rod and valid_move(state, from_rod, to_rod):\n",
        "                    new_state = [list(rod) for rod in state]\n",
        "                    disc = new_state[from_rod].pop()\n",
        "                    new_state[to_rod].append(disc)\n",
        "                    new_state_tuple = tuple(tuple(rod) for rod in new_state)\n",
        "                    if new_state_tuple not in visited:\n",
        "                        visited.add(new_state_tuple)\n",
        "                        queue.append((new_state_tuple, path + [(from_rod, to_rod)]))\n",
        "        step_count += 1\n",
        "\n",
        "    if not found and (max_steps is None or step_count < max_steps):\n",
        "         output_rows.append([\"No solution found within the explored states.\", \"\", \"\", \"\", \"\"])\n",
        "\n",
        "    with open(output_file, \"w\", newline=\"\") as f:\n",
        "        writer = csv.writer(f)\n",
        "        writer.writerows(output_rows)\n",
        "\n",
        "    if found:\n",
        "      print(f\"Solution found in {solution_path_length} moves after exploring {step_count + 1} states. Steps written to {output_file}\")\n",
        "    elif max_steps is not None and step_count >= max_steps:\n",
        "      print(f\"Max steps ({max_steps}) reached. Solution not found within this limit. Details written to {output_file}\")\n",
        "    else:\n",
        "      print(f\"No solution found after exploring {step_count} states. Details written to {output_file}\")"
      ],
      "metadata": {
        "id": "QN0c9bJSQ4UE"
      },
      "execution_count": 43,
      "outputs": []
    },
    {
      "cell_type": "code",
      "source": [
        "print(\"Tower of Hanoi using BFS\")\n",
        "num_discs = int(input(\"Enter the number of discs: \"))\n",
        "init_rod = int(input(\"Enter the initial rod (0, 1, or 2): \"))\n",
        "init_order = input(\"Enter the initial arrangement (increasing/decreasing): \").strip().lower()\n",
        "final_rod = int(input(\"Enter the final rod (0, 1, or 2): \"))\n",
        "final_order = input(\"Enter the final arrangement (increasing/decreasing): \").strip().lower()\n",
        "output_file = \"041_Output_Assignment3_SusharHembram.csv\"\n",
        "\n",
        "max_steps_input = input(\"Enter the maximum number of steps to explore (leave blank for no limit): \").strip()\n",
        "max_steps = int(max_steps_input) if max_steps_input else None\n",
        "\n",
        "bfs_hanoi(num_discs, init_rod, init_order, final_rod, final_order, output_file, max_steps)\n",
        "print(f\"Intermediate steps and solution written to {output_file}\")"
      ],
      "metadata": {
        "colab": {
          "base_uri": "https://localhost:8080/"
        },
        "id": "u2VE40biQ70l",
        "outputId": "a0c863ed-d769-4bb1-f1f6-958109c8d64f"
      },
      "execution_count": 44,
      "outputs": [
        {
          "output_type": "stream",
          "name": "stdout",
          "text": [
            "Tower of Hanoi using BFS\n",
            "Enter the number of discs: 3\n",
            "Enter the initial rod (0, 1, or 2): 0\n",
            "Enter the initial arrangement (increasing/decreasing): decreasing\n",
            "Enter the final rod (0, 1, or 2): 2\n",
            "Enter the final arrangement (increasing/decreasing): decreasing\n",
            "Enter the maximum number of steps to explore (leave blank for no limit): \n",
            "Solution found in 7 moves after exploring 25 states. Steps written to 041_Output_Assignment3_SusharHembram.csv\n",
            "Intermediate steps and solution written to 041_Output_Assignment3_SusharHembram.csv\n"
          ]
        }
      ]
    }
  ]
}