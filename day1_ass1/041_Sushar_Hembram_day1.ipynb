{
  "nbformat": 4,
  "nbformat_minor": 0,
  "metadata": {
    "colab": {
      "provenance": [],
      "toc_visible": true
    },
    "kernelspec": {
      "name": "python3",
      "display_name": "Python 3"
    },
    "language_info": {
      "name": "python"
    }
  },
  "cells": [
    {
      "cell_type": "markdown",
      "source": [
        "# Reading File and Writing in another File\n",
        "Note: There has to exist a file named read.txt with some content available to make this program possible otherwise we have to write the code to create a file and enter few lines or text within it."
      ],
      "metadata": {
        "id": "INKGi9Wm3XcV"
      }
    },
    {
      "cell_type": "markdown",
      "source": [
        "First of all mounting the drive to get to the folder where I could read the source file from where the content is to be read."
      ],
      "metadata": {
        "id": "5gt3u0Hp7NMl"
      }
    },
    {
      "cell_type": "code",
      "source": [
        "from google.colab import drive\n",
        "drive.mount('/content/drive')"
      ],
      "metadata": {
        "colab": {
          "base_uri": "https://localhost:8080/"
        },
        "id": "fYknVhRR5XYO",
        "outputId": "9eb86726-33dd-4892-dec5-16776efe6ce1"
      },
      "execution_count": 6,
      "outputs": [
        {
          "output_type": "stream",
          "name": "stdout",
          "text": [
            "Drive already mounted at /content/drive; to attempt to forcibly remount, call drive.mount(\"/content/drive\", force_remount=True).\n"
          ]
        }
      ]
    },
    {
      "cell_type": "markdown",
      "source": [
        "with open() command helps in opening the file that we want to read and name it as f file followed by that a variable read to read the contents and then writing the content to another file by creating it and then inseriting the read content into the file b f.write()"
      ],
      "metadata": {
        "id": "-Ws67BG57cSN"
      }
    },
    {
      "cell_type": "markdown",
      "source": [
        "###### If we want to create a file and insert some elelments then we could do in this manner otherwise just read the file from the location if the source file already exists.\n",
        "\n",
        "\n",
        "```\n",
        "with open(\"read.txt\", w) as f:\n",
        "f.write(\"Testing the read and write program\")\n",
        "f.write(\"File handling using python\")\n",
        "\n",
        "with open(\"read.txt\", r) as f:\n",
        "read=f.read()\n",
        "with open(\"write.txt\", w) as f:\n",
        "f.write(read)\n",
        "```\n",
        "\n"
      ],
      "metadata": {
        "id": "499Gb-RKGt6M"
      }
    },
    {
      "cell_type": "code",
      "source": [
        "with open(\"/content/read.txt\",'r') as f:\n",
        "    read=f.read()\n",
        "with open(\"/content/write.txt\",'w') as f:\n",
        "        f.write(read)"
      ],
      "metadata": {
        "id": "0ki-akc33vpG"
      },
      "execution_count": 12,
      "outputs": []
    },
    {
      "cell_type": "markdown",
      "source": [
        "# DFS Algorithm\n"
      ],
      "metadata": {
        "id": "MyTUdEr3-f8O"
      }
    },
    {
      "cell_type": "markdown",
      "source": [
        "In the DFS algorithm implementation what we are doing is that we are visiting every other point. Its like running an rc motor in a maze where if the rc car detects wall, it backtracks and takes another routeuntil all possiible paths and routes have ben measured and visited."
      ],
      "metadata": {
        "id": "JoNMeBxfBqtM"
      }
    },
    {
      "cell_type": "code",
      "source": [
        "matrix = [\n",
        "    [1, 1, 0, 0],\n",
        "    [0, 1, 1, 1],\n",
        "    [1, 1, 0, 1]\n",
        "]"
      ],
      "metadata": {
        "id": "IarG2ZS8RNMF"
      },
      "execution_count": 34,
      "outputs": []
    },
    {
      "cell_type": "markdown",
      "source": [
        "We select the starting and ending position for the matrix"
      ],
      "metadata": {
        "id": "8bw7HIANSrit"
      }
    },
    {
      "cell_type": "code",
      "source": [
        "start_row = 0\n",
        "start_col = 0\n",
        "\n",
        "end_row = 2\n",
        "end_col = 3\n",
        "\n",
        "# This will hold all ways to reach goal\n",
        "paths = []"
      ],
      "metadata": {
        "id": "BE6g_4_LRVF0"
      },
      "execution_count": 35,
      "outputs": []
    },
    {
      "cell_type": "markdown",
      "source": [
        "we do the implementation of dfs\n"
      ],
      "metadata": {
        "id": "sRcujhibSqDe"
      }
    },
    {
      "cell_type": "code",
      "source": [
        "def dfs(row, col, path):\n",
        "    if row < 0 or col < 0 or row >= len(matrix) or col >= len(matrix[0]):\n",
        "        return\n",
        "    if matrix[row][col] != 1:\n",
        "        return\n",
        "\n",
        "    path.append((row, col))\n",
        "    matrix[row][col] = -1\n",
        "    print(\"Visited: \",row,col)\n",
        "\n",
        "    if row == end_row and col == end_col:\n",
        "        paths.append(path.copy())\n",
        "    else:\n",
        "        dfs(row + 1, col, path)\n",
        "        dfs(row - 1, col, path)\n",
        "        dfs(row, col + 1, path)\n",
        "        dfs(row, col - 1, path)\n",
        "\n",
        "    path.pop()\n",
        "    matrix[row][col] = 1\n",
        "    print(\"Backtracking: \",row,col)\n",
        "\n",
        "dfs(start_row, start_col, [])"
      ],
      "metadata": {
        "colab": {
          "base_uri": "https://localhost:8080/"
        },
        "id": "qa-nudgH-pg8",
        "outputId": "d402deb9-4326-46da-d506-cbe4a5ac0cd0"
      },
      "execution_count": 36,
      "outputs": [
        {
          "output_type": "stream",
          "name": "stdout",
          "text": [
            "Visited:  0 0\n",
            "Visited:  0 1\n",
            "Visited:  1 1\n",
            "Visited:  2 1\n",
            "Visited:  2 0\n",
            "Backtracking:  2 0\n",
            "Backtracking:  2 1\n",
            "Visited:  1 2\n",
            "Visited:  1 3\n",
            "Visited:  2 3\n",
            "Backtracking:  2 3\n",
            "Backtracking:  1 3\n",
            "Backtracking:  1 2\n",
            "Backtracking:  1 1\n",
            "Backtracking:  0 1\n",
            "Backtracking:  0 0\n"
          ]
        }
      ]
    },
    {
      "cell_type": "markdown",
      "source": [
        "Print all the possible paths\n"
      ],
      "metadata": {
        "id": "BOyz3ZdeS2Gk"
      }
    },
    {
      "cell_type": "code",
      "source": [
        "print(\"All the paths from START to END:\")\n",
        "for num, p in enumerate(paths, 1):\n",
        "    print(\"Path\", num, \":\", p)\n"
      ],
      "metadata": {
        "colab": {
          "base_uri": "https://localhost:8080/"
        },
        "id": "IHr2WIYeRcVs",
        "outputId": "b1c2ca88-a198-4987-944c-0651fd00007e"
      },
      "execution_count": 37,
      "outputs": [
        {
          "output_type": "stream",
          "name": "stdout",
          "text": [
            "All the paths from START to END:\n",
            "Path 1 : [(0, 0), (0, 1), (1, 1), (1, 2), (1, 3), (2, 3)]\n"
          ]
        }
      ]
    },
    {
      "cell_type": "markdown",
      "source": [
        "# Eight Puzzle Problem\n",
        "\n"
      ],
      "metadata": {
        "id": "cih8S9jeFFSu"
      }
    },
    {
      "cell_type": "code",
      "source": [],
      "metadata": {
        "id": "uu02_Cvk-ozu"
      },
      "execution_count": null,
      "outputs": []
    }
  ]
}