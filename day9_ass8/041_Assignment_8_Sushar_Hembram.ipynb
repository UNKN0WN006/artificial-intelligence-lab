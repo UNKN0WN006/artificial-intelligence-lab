{
  "nbformat": 4,
  "nbformat_minor": 0,
  "metadata": {
    "colab": {
      "provenance": [],
      "toc_visible": true
    },
    "kernelspec": {
      "name": "python3",
      "display_name": "Python 3"
    },
    "language_info": {
      "name": "python"
    }
  },
  "cells": [
    {
      "cell_type": "markdown",
      "source": [
        "# **Assignment 8**: Classical Tic Tac Toe Game between Human and COmputer using any constraint satisfactory algorithm\n"
      ],
      "metadata": {
        "id": "1MamVIN1tWtI"
      }
    },
    {
      "cell_type": "code",
      "execution_count": 36,
      "metadata": {
        "id": "gp8nokiUtRSE"
      },
      "outputs": [],
      "source": [
        "import random"
      ]
    },
    {
      "cell_type": "code",
      "source": [
        "def print_b(b, f=None):\n",
        "    s = '\\n'.join(' '.join(r) for r in b) + '\\n'\n",
        "    print(s)\n",
        "    if f:\n",
        "        f.write(s + '\\n')"
      ],
      "metadata": {
        "id": "d3dflCuctsQo"
      },
      "execution_count": 37,
      "outputs": []
    },
    {
      "cell_type": "code",
      "source": [
        "def win(b, p):\n",
        "    for i in range(3):\n",
        "        if all(b[i][j] == p for j in range(3)): return True\n",
        "        if all(b[j][i] == p for j in range(3)): return True\n",
        "    if all(b[i][i] == p for i in range(3)): return True\n",
        "    if all(b[i][2-i] == p for i in range(3)): return True\n",
        "    return False\n",
        "\n",
        "def full(b):\n",
        "    return all(b[i][j] != '.' for i in range(3) for j in range(3))\n",
        "\n",
        "def score(b):\n",
        "    if win(b, 'O'): return 1\n",
        "    if win(b, 'X'): return -1\n",
        "    return 0"
      ],
      "metadata": {
        "id": "amMZ4k4mtuIw"
      },
      "execution_count": 38,
      "outputs": []
    },
    {
      "cell_type": "markdown",
      "source": [
        "### This function uses alpha-beta pruning to efficiently search for the best move for the game. It recursively checks for the possible moves and prunes the branches that cannot improve the outcome."
      ],
      "metadata": {
        "id": "ofKaj6PU2Pwa"
      }
    },
    {
      "cell_type": "code",
      "source": [
        "def ab(b, turn, a, bval):\n",
        "    if win(b, 'O') or win(b, 'X') or full(b):\n",
        "        return score(b)\n",
        "    if turn == 'O':\n",
        "        best = -2\n",
        "        for i in range(3):\n",
        "            for j in range(3):\n",
        "                if b[i][j] == '.':\n",
        "                    b[i][j] = 'O'\n",
        "                    val = ab(b, 'X', a, bval)\n",
        "                    b[i][j] = '.'\n",
        "                    if val > best: best = val\n",
        "                    if best >= bval: return best\n",
        "                    if best > a: a = best\n",
        "        return best\n",
        "    else:\n",
        "        best = 2\n",
        "        for i in range(3):\n",
        "            for j in range(3):\n",
        "                if b[i][j] == '.':\n",
        "                    b[i][j] = 'X'\n",
        "                    val = ab(b, 'O', a, bval)\n",
        "                    b[i][j] = '.'\n",
        "                    if val < best: best = val\n",
        "                    if best <= a: return best\n",
        "                    if best < bval: bval = best\n",
        "        return best"
      ],
      "metadata": {
        "id": "9t3m2P99twAQ"
      },
      "execution_count": 39,
      "outputs": []
    },
    {
      "cell_type": "markdown",
      "source": [
        "### Added difficulty levels for enhanced gameplay."
      ],
      "metadata": {
        "id": "3ijxXhzW1Yxw"
      }
    },
    {
      "cell_type": "code",
      "source": [
        "def hard_move(b, ai):\n",
        "    best = -2\n",
        "    x, y = -1, -1\n",
        "    for i in range(3):\n",
        "        for j in range(3):\n",
        "            if b[i][j] == '.':\n",
        "                b[i][j] = ai\n",
        "                val = ab(b, 'X' if ai == 'O' else 'O', -2, 2)\n",
        "                b[i][j] = '.'\n",
        "                if val > best:\n",
        "                    best = val\n",
        "                    x, y = i, j\n",
        "    return x, y\n",
        "\n",
        "def easy_move(b):\n",
        "    moves = [(i, j) for i in range(3) for j in range(3) if b[i][j] == '.']\n",
        "    return random.choice(moves)\n",
        "\n",
        "def medium_move(b, ai):\n",
        "    opp = 'X' if ai == 'O' else 'O'\n",
        "    # Win if possible\n",
        "    for i in range(3):\n",
        "        for j in range(3):\n",
        "            if b[i][j] == '.':\n",
        "                b[i][j] = ai\n",
        "                if win(b, ai):\n",
        "                    b[i][j] = '.'\n",
        "                    return i, j\n",
        "                b[i][j] = '.'\n",
        "    # Block opponent win\n",
        "    for i in range(3):\n",
        "        for j in range(3):\n",
        "            if b[i][j] == '.':\n",
        "                b[i][j] = opp\n",
        "                if win(b, opp):\n",
        "                    b[i][j] = '.'\n",
        "                    return i, j\n",
        "                b[i][j] = '.'\n",
        "    return easy_move(b)"
      ],
      "metadata": {
        "id": "ZctPBpzqt9lQ"
      },
      "execution_count": 40,
      "outputs": []
    },
    {
      "cell_type": "markdown",
      "source": [
        "### In this main function, it handles user input, lets the player choose their order and difficulty, and runs the game loop."
      ],
      "metadata": {
        "id": "yU3pL79H2c8p"
      }
    },
    {
      "cell_type": "code",
      "source": [
        "def main():\n",
        "    b = [['.']*3 for _ in range(3)]\n",
        "    with open(\"output.txt\", \"w\") as f:\n",
        "        print(\"Choose your symbol: X (first) or O (second)\")\n",
        "        user = input(\"Enter X or O: \").strip().upper()\n",
        "        while user not in ('X', 'O'):\n",
        "            user = input(\"Enter X or O: \").strip().upper()\n",
        "        ai = 'O' if user == 'X' else 'X'\n",
        "        print(\"Choose difficulty: easy, medium, hard\")\n",
        "        diff = input(\"Enter difficulty: \").strip().lower()\n",
        "        while diff not in ('easy', 'medium', 'hard'):\n",
        "            diff = input(\"Enter difficulty: \").strip().lower()\n",
        "        turn = 'X'\n",
        "        f.write(f\"You are {user}, computer is {ai}\\n\")\n",
        "        print_b(b, f)\n",
        "        while True:\n",
        "            if turn == user:\n",
        "                while True:\n",
        "                    try:\n",
        "                        r, c = map(int, input(\"Enter row and col (0-2): \").split())\n",
        "                        if b[r][c] == '.':\n",
        "                            b[r][c] = user\n",
        "                            break\n",
        "                        else:\n",
        "                            print(\"Cell taken.\")\n",
        "                    except:\n",
        "                        print(\"Invalid input.\")\n",
        "                print_b(b, f)\n",
        "                if win(b, user):\n",
        "                    print(\"You win!\")\n",
        "                    f.write(\"You win!\\n\")\n",
        "                    break\n",
        "            else:\n",
        "                print(\"Computer move:\")\n",
        "                f.write(\"Computer move:\\n\")\n",
        "                if diff == \"easy\":\n",
        "                    r, c = easy_move(b)\n",
        "                elif diff == \"medium\":\n",
        "                    r, c = medium_move(b, ai)\n",
        "                else:\n",
        "                    r, c = hard_move(b, ai)\n",
        "                b[r][c] = ai\n",
        "                print_b(b, f)\n",
        "                if win(b, ai):\n",
        "                    print(\"Computer wins!\")\n",
        "                    f.write(\"Computer wins!\\n\")\n",
        "                    break\n",
        "            if full(b):\n",
        "                print(\"Draw!\")\n",
        "                f.write(\"Draw!\\n\")\n",
        "                break\n",
        "            turn = 'O' if turn == 'X' else 'X'\n",
        "\n",
        "if __name__ == \"__main__\":\n",
        "    main()"
      ],
      "metadata": {
        "colab": {
          "base_uri": "https://localhost:8080/"
        },
        "id": "prKwmiZ4wVXJ",
        "outputId": "4e42a4b4-d66a-4711-e639-a55c268d8f2d"
      },
      "execution_count": 41,
      "outputs": [
        {
          "output_type": "stream",
          "name": "stdout",
          "text": [
            "Choose your symbol: X (first) or O (second)\n",
            "Enter X or O: X\n",
            "Choose difficulty: easy, medium, hard\n",
            "Enter difficulty: easy\n",
            ". . .\n",
            ". . .\n",
            ". . .\n",
            "\n",
            "Enter row and col (0-2): 1 1\n",
            ". . .\n",
            ". X .\n",
            ". . .\n",
            "\n",
            "Computer move:\n",
            ". . .\n",
            ". X O\n",
            ". . .\n",
            "\n",
            "Enter row and col (0-2): 0 2\n",
            ". . X\n",
            ". X O\n",
            ". . .\n",
            "\n",
            "Computer move:\n",
            ". . X\n",
            "O X O\n",
            ". . .\n",
            "\n",
            "Enter row and col (0-2): 0 1\n",
            ". X X\n",
            "O X O\n",
            ". . .\n",
            "\n",
            "Computer move:\n",
            "O X X\n",
            "O X O\n",
            ". . .\n",
            "\n",
            "Enter row and col (0-2): 2 1\n",
            "O X X\n",
            "O X O\n",
            ". X .\n",
            "\n",
            "You win!\n"
          ]
        }
      ]
    }
  ]
}