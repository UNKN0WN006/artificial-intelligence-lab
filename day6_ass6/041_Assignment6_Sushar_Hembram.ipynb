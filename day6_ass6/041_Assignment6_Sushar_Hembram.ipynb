{
  "nbformat": 4,
  "nbformat_minor": 0,
  "metadata": {
    "colab": {
      "provenance": []
    },
    "kernelspec": {
      "name": "python3",
      "display_name": "Python 3"
    },
    "language_info": {
      "name": "python"
    }
  },
  "cells": [
    {
      "cell_type": "code",
      "source": [
        "import heapq, itertools\n"
      ],
      "metadata": {
        "id": "DqAZaUqt04vA"
      },
      "execution_count": 149,
      "outputs": []
    },
    {
      "cell_type": "code",
      "source": [
        "def read_inp(fn):\n",
        "    with open(fn) as f:\n",
        "        lines = [ln.strip() for ln in f.read().splitlines() if ln.strip()!='']\n",
        "    if not lines:\n",
        "        raise ValueError(\"input empty\")\n",
        "    try:\n",
        "        n = int(lines[0])\n",
        "    except:\n",
        "        raise ValueError(\"first non-empty line must be board size (3 or 4)\")\n",
        "    if len(lines) < 1 + n + 1:\n",
        "        raise ValueError(f\"need 1 + {n} + 1 lines (size + board rows + player). Got {len(lines)}\")\n",
        "    b = []\n",
        "    for i in range(n):\n",
        "        row = lines[1+i]\n",
        "        row_chars = [c for c in row if c in \"XO.\"]\n",
        "        if len(row_chars) != n:\n",
        "            parts = row.split()\n",
        "            if len(parts)==n and all(len(p)==1 and p in \"XO.\" for p in parts):\n",
        "                row_chars = parts\n",
        "            else:\n",
        "                raise ValueError(f\"row {i+1} must contain exactly {n} symbols X/O/. (found: {row!r})\")\n",
        "        b.append(row_chars)\n",
        "    p = lines[1+n].upper()\n",
        "    if p not in (\"X\",\"O\"):\n",
        "        raise ValueError(\"player line must be X or O\")\n",
        "    return n, b, p"
      ],
      "metadata": {
        "id": "BtTM-yTf1HR_"
      },
      "execution_count": 150,
      "outputs": []
    },
    {
      "cell_type": "code",
      "source": [
        "def lines_of(b, n):\n",
        "    L = []\n",
        "    for r in b:\n",
        "        L.append(list(r))\n",
        "    for c in range(n):\n",
        "        L.append([b[r][c] for r in range(n)])\n",
        "    L.append([b[i][i] for i in range(n)])\n",
        "    L.append([b[i][n-1-i] for i in range(n)])\n",
        "    return L"
      ],
      "metadata": {
        "id": "x2AbtZmU1EWX"
      },
      "execution_count": 151,
      "outputs": []
    },
    {
      "cell_type": "code",
      "source": [
        "def win(b, n, q):\n",
        "    t = [q]*n\n",
        "    for ln in lines_of(b,n):\n",
        "        if ln == t:\n",
        "            return True\n",
        "    return False"
      ],
      "metadata": {
        "id": "rDksd2ih1CTf"
      },
      "execution_count": 152,
      "outputs": []
    },
    {
      "cell_type": "code",
      "source": [
        "\n",
        "def heuristic(b, n, root):\n",
        "    opp = \"O\" if root==\"X\" else \"X\"\n",
        "    L = lines_of(b,n)\n",
        "    hp = sum(1 for ln in L if opp not in ln)    # lines possible for root\n",
        "    ho = sum(1 for ln in L if root not in ln)   # lines possible for opponent\n",
        "    return hp - ho"
      ],
      "metadata": {
        "id": "qYBYAJwy1AiX"
      },
      "execution_count": 153,
      "outputs": []
    },
    {
      "cell_type": "code",
      "source": [
        "def to_key(b):\n",
        "    return tuple(\"\".join(r) for r in b)\n",
        "\n",
        "def gen_moves(b, n, p):\n",
        "    for r in range(n):\n",
        "        for c in range(n):\n",
        "            if b[r][c]=='.':\n",
        "                nb = [row[:] for row in b]\n",
        "                nb[r][c] = p\n",
        "                yield nb, (r,c)\n"
      ],
      "metadata": {
        "id": "hPPjwOqy0_KI"
      },
      "execution_count": 154,
      "outputs": []
    },
    {
      "cell_type": "code",
      "source": [
        "def best_first(fn_in, fn_steps=\"steps.txt\", fn_out=\"output.txt\", max_expansions=20000):\n",
        "    open(fn_steps,\"w\").close()\n",
        "    open(fn_out,\"w\").close()\n",
        "    n,b,root = read_inp(fn_in)\n",
        "    if win(b,n,\"X\") or win(b,n,\"O\"):\n",
        "        with open(fn_out,\"a\") as f:\n",
        "            f.write(\"Initial board already terminal:\\n\")\n",
        "            for r in b: f.write(\"\".join(r)+\"\\n\")\n",
        "        return\n",
        "    ctr = itertools.count()\n",
        "    start_key = to_key(b)\n",
        "    start_h = heuristic(b,n,root)\n",
        "    start = {\"key\":start_key, \"b\":b, \"next\":root, \"par\":None, \"mv\":None, \"d\":0, \"h\":start_h}\n",
        "    pq = [(-start_h, next(ctr), start)]\n",
        "    seen = set()\n",
        "    exp = 0\n",
        "    nd = None\n",
        "    while pq and exp < max_expansions:\n",
        "        pr, _, nd = heapq.heappop(pq)\n",
        "        exp += 1\n",
        "        with open(fn_steps,\"a\") as fs:\n",
        "            fs.write(f\"Step {exp}  h={nd['h']}  next={nd['next']} d={nd['d']}\\n\")\n",
        "            for r in nd['b']:\n",
        "                fs.write(\"\".join(r)+\"\\n\")\n",
        "            fs.write(\"-\"*10+\"\\n\")\n",
        "        key = nd['key']\n",
        "        nxt = nd['next']\n",
        "        if (key, nxt) in seen:\n",
        "            continue\n",
        "        seen.add((key, nxt))\n",
        "        for nb, mv in gen_moves(nd['b'], n, nxt):\n",
        "            k = to_key(nb)\n",
        "            mover = nxt\n",
        "            if win(nb, n, mover):\n",
        "                child = {\"key\":k, \"b\":nb, \"next\": (\"O\" if mover==\"X\" else \"X\"), \"par\":nd, \"mv\":mv, \"d\": nd['d']+1, \"h\": heuristic(nb,n,root)}\n",
        "                path = []\n",
        "                cur = child\n",
        "                while cur is not None:\n",
        "                    path.append(cur)\n",
        "                    cur = cur['par']\n",
        "                path = list(reversed(path))\n",
        "                with open(fn_out,\"a\") as fo:\n",
        "                    fo.write(f\"Win found for {mover} at step {exp}. Sequence:\\n\")\n",
        "                    for node in path:\n",
        "                        fo.write(f\"depth={node['d']} next={node['next']}\\n\")\n",
        "                        for r in node['b']:\n",
        "                            fo.write(''.join(r)+ '\\n')\n",
        "                        fo.write('-'*6 + '\\n')\n",
        "                return\n",
        "            child = {\"key\":k, \"b\":nb, \"next\": (\"O\" if nxt==\"X\" else \"X\"), \"par\":nd, \"mv\":mv, \"d\": nd['d']+1, \"h\": heuristic(nb,n,root)}\n",
        "            heapq.heappush(pq, (-child['h'], next(ctr), child))\n",
        "    with open(fn_out,\"a\") as fo:\n",
        "        fo.write(f\"No winning sequence found within {exp} expansions.\\n\")\n",
        "        fo.write(\"Last examined board:\\n\")\n",
        "        if nd:\n",
        "            for r in nd['b']:\n",
        "                fo.write(''.join(r)+'\\n')\n"
      ],
      "metadata": {
        "id": "w_eO5JnL088v"
      },
      "execution_count": 155,
      "outputs": []
    },
    {
      "cell_type": "code",
      "source": [
        "if __name__ == \"__main__\":\n",
        "    # default filename is input.txt; you can change it or pass through an environment in Colab.\n",
        "    best_first(\"/content/sample_data/input.txt\", \"/content/sample_data/steps.txt\", \"/content/sample_data/output.txt\")\n",
        "    print(\"Done. Check steps.txt and output.txt\")\n",
        "\n"
      ],
      "metadata": {
        "colab": {
          "base_uri": "https://localhost:8080/"
        },
        "id": "AvX8ahzh06JX",
        "outputId": "32f56528-818d-4232-f17e-2f5160077fb1"
      },
      "execution_count": 157,
      "outputs": [
        {
          "output_type": "stream",
          "name": "stdout",
          "text": [
            "Done. Check steps.txt and output.txt\n"
          ]
        }
      ]
    }
  ]
}