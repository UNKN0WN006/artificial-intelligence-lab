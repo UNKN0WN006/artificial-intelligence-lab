{
  "nbformat": 4,
  "nbformat_minor": 0,
  "metadata": {
    "colab": {
      "provenance": [],
      "toc_visible": true
    },
    "kernelspec": {
      "name": "python3",
      "display_name": "Python 3"
    },
    "language_info": {
      "name": "python"
    }
  },
  "cells": [
    {
      "cell_type": "markdown",
      "source": [
        "## Missionaries and Carnivals Problem (in BFS, DLS, DFS, IDS, ILS, UCS)"
      ],
      "metadata": {
        "id": "DtS149cP-AMb"
      }
    },
    {
      "cell_type": "code",
      "execution_count": 1,
      "metadata": {
        "id": "DAZChb4v5b4N"
      },
      "outputs": [],
      "source": [
        "import sys\n",
        "import time\n",
        "import json\n",
        "import heapq\n",
        "import random\n",
        "from collections import deque"
      ]
    },
    {
      "cell_type": "code",
      "source": [
        "def is_valid(state):\n",
        "  farmer, wolf, goat, cabbage, boat = state\n",
        "  if goat == wolf and farmer != goat:\n",
        "    return False\n",
        "  if goat == cabbage and farmer != goat:\n",
        "    return False\n",
        "  return True"
      ],
      "metadata": {
        "id": "UgdFHFmIE6BC"
      },
      "execution_count": 2,
      "outputs": []
    },
    {
      "cell_type": "code",
      "source": [
        "def get_successors(state):\n",
        "  farmer, wolf, goat, cabbage, boat = state\n",
        "  moves = []\n",
        "  new_boat = 'R' if boat == 'L' else 'L'\n",
        "  new_state = (new_boat if farmer == boat else farmer, wolf, goat, cabbage, new_boat)\n",
        "  if is_valid(new_state):\n",
        "    moves.append((new_state, \"Farmer crosses alone\"))\n",
        "    # Farmer takes wolf\n",
        "  if farmer == wolf == boat:\n",
        "    new_state = (new_boat, new_boat, goat, cabbage, new_boat)\n",
        "  if is_valid(new_state):\n",
        "    moves.append((new_state, \"Farmer takes Wolf\"))\n",
        "  # Farmer takes goat\n",
        "  if farmer == goat == boat:\n",
        "    new_state = (new_boat, wolf, new_boat, cabbage, new_boat)\n",
        "  if is_valid(new_state):\n",
        "    moves.append((new_state, \"Farmer takes Goat\"))\n",
        "  # Farmer takes cabbage\n",
        "  if farmer == cabbage == boat:\n",
        "    new_state = (new_boat, wolf, goat, new_boat, new_boat)\n",
        "  if is_valid(new_state):\n",
        "    moves.append((new_state, \"Farmer takes Cabbage\"))\n",
        "  return moves"
      ],
      "metadata": {
        "id": "X_8FxYEbGi0K"
      },
      "execution_count": 3,
      "outputs": []
    },
    {
      "cell_type": "code",
      "source": [
        "def state_to_str(state):\n",
        "  # Converting state tuple to string\n",
        "  names = ['Farmer', 'Wolf', 'Goat', 'Cabbage', 'Boat']\n",
        "  return ', '.join(f\"{name}:{pos}\" for name, pos in zip(names, state))"
      ],
      "metadata": {
        "id": "UhAKQZEHGy45"
      },
      "execution_count": 6,
      "outputs": []
    },
    {
      "cell_type": "code",
      "source": [
        "def read_input(filename):\n",
        "  with open(filename, 'r') as f:\n",
        "    params = json.load(f)\n",
        "  return params\n",
        "\n",
        "def write_log(logfile, text):\n",
        "  # Appending the log file\n",
        "  with open(logfile, 'a') as f:\n",
        "    f.write(text + '\\n')\n",
        "\n",
        "def print_path(path, actions, logfile):\n",
        "  write_log(logfile, f\"Solution found in {len(path)-1} steps:\")\n",
        "  for i, (state, action) in enumerate(zip(path[1:], actions)):\n",
        "    write_log(logfile, f\"Step {i+1}: {action} -> {state_to_str(state)}\")\n"
      ],
      "metadata": {
        "id": "SkxeZf9eHESx"
      },
      "execution_count": 7,
      "outputs": []
    },
    {
      "cell_type": "markdown",
      "source": [
        "### BFS (Breadth First Search)"
      ],
      "metadata": {
        "id": "slbDEr5g-8dz"
      }
    },
    {
      "cell_type": "code",
      "source": [
        "def bfs(start, goal, logfile):\n",
        "# Exploring the shallow nodes first\n",
        "  queue = deque()\n",
        "  queue.append((start, [start], []))\n",
        "  visited = set()\n",
        "  step = 0\n",
        "  while queue:\n",
        "    state, path, actions = queue.popleft()\n",
        "    write_log(logfile, f\"BFS Step {step}: {state_to_str(state)}\")\n",
        "    if state == goal:\n",
        "      return path, actions\n",
        "    visited.add(state)\n",
        "    for succ, action in get_successors(state):\n",
        "        if succ not in visited:\n",
        "          queue.append((succ, path + [succ], actions + [action]))\n",
        "    step += 1\n",
        "  return None, None"
      ],
      "metadata": {
        "id": "Cnv3wVlF97ky"
      },
      "execution_count": 8,
      "outputs": []
    },
    {
      "cell_type": "markdown",
      "source": [
        "### DFS (Depth First Search)"
      ],
      "metadata": {
        "id": "toxEUZQgJvcK"
      }
    },
    {
      "cell_type": "markdown",
      "source": [
        "Exploring as far as possible along each branch before backtracking using a stack (LIFO). If depth_limit is set, the program performs a Depth-Limited Search (DLS).\n",
        "    "
      ],
      "metadata": {
        "id": "297SgEQ0MY3i"
      }
    },
    {
      "cell_type": "code",
      "source": [
        "def dfs(start, goal, logfile, depth_limit=None):\n",
        "  stack = [(start, [start], [], 0)]\n",
        "  visited = set()\n",
        "  step = 0\n",
        "  while stack:\n",
        "    state, path, actions, depth = stack.pop()\n",
        "    write_log(logfile, f\"DFS Step {step}: {state_to_str(state)} (depth {depth})\")\n",
        "    if state == goal:\n",
        "      return path, actions\n",
        "    if depth_limit is not None and depth >= depth_limit:\n",
        "      continue\n",
        "    visited.add(state)\n",
        "    for succ, action in get_successors(state):\n",
        "      if succ not in visited:\n",
        "        stack.append((succ, path + [succ], actions + [action], depth + 1))\n",
        "    step += 1\n",
        "  return None, None"
      ],
      "metadata": {
        "id": "6CtrPoxNKJLa"
      },
      "execution_count": null,
      "outputs": []
    },
    {
      "cell_type": "markdown",
      "source": [
        "### DLS (Depth Limited Search)"
      ],
      "metadata": {
        "id": "ENe6nL-XN5Y6"
      }
    },
    {
      "cell_type": "code",
      "source": [
        "def dls(start, goal, logfile, limit):\n",
        "  # calling DFS with a depth-limit\n",
        "    return dfs(start, goal, logfile, depth_limit=limit)"
      ],
      "metadata": {
        "id": "U4dSvurVO13C"
      },
      "execution_count": null,
      "outputs": []
    },
    {
      "cell_type": "markdown",
      "source": [
        "### IDS (Iterative Deepening Search)"
      ],
      "metadata": {
        "id": "R5I26WblPecz"
      }
    },
    {
      "cell_type": "markdown",
      "source": [
        "Repeatedly applying DLS with increasing depth limits.\n",
        "    "
      ],
      "metadata": {
        "id": "6ipELIdZQE_i"
      }
    },
    {
      "cell_type": "code",
      "source": [
        "def ids(start, goal, logfile, max_depth):\n",
        "  for depth in range(max_depth + 1):\n",
        "    write_log(logfile, f\"IDS: Trying depth {depth}\")\n",
        "    path, actions = dfs(start, goal, logfile, depth_limit=depth)\n",
        "    if path:\n",
        "      return path, actions\n",
        "  return None, None"
      ],
      "metadata": {
        "id": "KFUaia1zPwAq"
      },
      "execution_count": null,
      "outputs": []
    },
    {
      "cell_type": "markdown",
      "source": [
        "### UCS (Uniform Cost Search)"
      ],
      "metadata": {
        "id": "CoEENQhvSo4C"
      }
    },
    {
      "cell_type": "markdown",
      "source": [
        "Expanding the least-codenode using a priority queue."
      ],
      "metadata": {
        "id": "CJ_0ztGUTU2a"
      }
    },
    {
      "cell_type": "code",
      "source": [
        "def ucs(start, goal, logfile, cost_fn):\n",
        "  heap = []\n",
        "  heapq.heappush(heap, (0, start, [start], []))\n",
        "  visited = set()\n",
        "  step = 0\n",
        "  while heap:\n",
        "    cost, state, path, actions = heapq.heappop(heap)\n",
        "    write_log(logfile, f\"UCS Step {step}: {state_to_str(state)} (cost {cost})\")\n",
        "    if state == goal:\n",
        "      return path, actions\n",
        "    visited.add(state)\n",
        "    for succ, action in get_successors(state):\n",
        "      if succ not in visited:\n",
        "        heapq.heappush(heap, (cost + cost_fn(state, succ), succ, path + [succ], actions + [action]))\n",
        "    step += 1\n",
        "  return None, None"
      ],
      "metadata": {
        "id": "RKhQ5M0ETRS6"
      },
      "execution_count": null,
      "outputs": []
    },
    {
      "cell_type": "markdown",
      "source": [
        "### ILS (Iterative Local Search)"
      ],
      "metadata": {
        "id": "YII5GddRUb0C"
      }
    },
    {
      "cell_type": "markdown",
      "source": [
        "Performing multiple DFS runs with randomization and restarting."
      ],
      "metadata": {
        "id": "2m_P9CQ2U-wq"
      }
    },
    {
      "cell_type": "code",
      "source": [
        "def ils(start, goal, logfile, max_restarts):\n",
        "  best_path = None\n",
        "  best_actions = None\n",
        "  for restart in range(max_restarts):\n",
        "    write_log(logfile, f\"ILS: Restart {restart}\")\n",
        "    stack = [(start, [start], [], 0)]\n",
        "    visited = set()\n",
        "    while stack:\n",
        "      state, path, actions, depth = stack.pop()\n",
        "      if state == goal:\n",
        "        if not best_path or len(path) < len(best_path):\n",
        "          best_path = path\n",
        "          best_actions = actions\n",
        "        break\n",
        "      visited.add(state)\n",
        "      successors = get_successors(state)\n",
        "      random.shuffle(successors)\n",
        "      for succ, action in successors:\n",
        "        if succ not in visited:\n",
        "          stack.append((succ, path + [succ], actions + [action], depth + 1))\n",
        "  return best_path, best_actions"
      ],
      "metadata": {
        "id": "WoiUqC03UmKx"
      },
      "execution_count": null,
      "outputs": []
    },
    {
      "cell_type": "markdown",
      "source": [
        "## Main Function"
      ],
      "metadata": {
        "id": "AtEVBvf8VyYC"
      }
    },
    {
      "cell_type": "code",
      "source": [
        "def main():\n",
        "  # Setting parameters directly or reading from a single input file\n",
        "  params = read_input(\"input.json\")\n",
        "  start = tuple(params[\"start\"])\n",
        "  goal = tuple(params[\"goal\"])\n",
        "  logfile = \"all_algorithms_output.txt\"\n",
        "  # Clearing the output file at the start\n",
        "  open(logfile, 'w').close()\n",
        "\n",
        "# BFS\n",
        "  write_log(logfile, \"\\n========== BFS ==========\")\n",
        "  t0 = time.time()\n",
        "  path, actions = bfs(start, goal, logfile)\n",
        "  t1 = time.time()\n",
        "  if path:\n",
        "    print_path(path, actions, logfile)\n",
        "  else:\n",
        "    write_log(logfile, \"No solution found.\")\n",
        "  write_log(logfile, f\"Time taken: {t1-t0:.4f} seconds\")\n",
        "\n",
        "# DFS\n",
        "  write_log(logfile, \"\\n========== DFS ==========\")\n",
        "  t0 = time.time()\n",
        "  path, actions = dfs(start, goal, logfile)\n",
        "  t1 = time.time()\n",
        "  if path:\n",
        "    print_path(path, actions, logfile)\n",
        "  else:\n",
        "    write_log(logfile, \"No solution found.\")\n",
        "  write_log(logfile, f\"Time taken: {t1-t0:.4f} seconds\")\n",
        "\n",
        "# DLS with different limits\n",
        "  for limit in [5, 10, 20]:\n",
        "    write_log(logfile, f\"\\n========== DLS (limit={limit}) ==========\")\n",
        "    t0 = time.time()\n",
        "    path, actions = dls(start, goal, logfile, limit)\n",
        "    t1 = time.time()\n",
        "    if path:\n",
        "      print_path(path, actions, logfile)\n",
        "    else:\n",
        "      write_log(logfile, \"No solution found.\")\n",
        "    write_log(logfile, f\"Time taken: {t1-t0:.4f} seconds\")\n",
        "\n",
        "# IDS with different max_depth\n",
        "  for max_depth in [5, 10, 20]:\n",
        "    write_log(logfile, f\"\\n========== IDS (max_depth={max_depth}) ==========\")\n",
        "    t0 = time.time()\n",
        "    path, actions = ids(start, goal, logfile, max_depth)\n",
        "    t1 = time.time()\n",
        "    if path:\n",
        "      print_path(path, actions, logfile)\n",
        "    else:\n",
        "      write_log(logfile, \"No solution found.\")\n",
        "  write_log(logfile, f\"Time taken: {t1-t0:.4f} seconds\")\n",
        "\n",
        "    # UCS\n",
        "    write_log(logfile, \"\\n========== UCS ==========\")\n",
        "    t0 = time.time()\n",
        "    def cost_fn(s1, s2): return params.get(\"step_cost\", 1)\n",
        "    path, actions = ucs(start, goal, logfile, cost_fn)\n",
        "    t1 = time.time()\n",
        "    if path:\n",
        "        print_path(path, actions, logfile)\n",
        "    else:\n",
        "        write_log(logfile, \"No solution found.\")\n",
        "    write_log(logfile, f\"Time taken: {t1-t0:.4f} seconds\")\n",
        "\n",
        "    # ILS with different restarts\n",
        "    for restarts in [3, 5, 10]:\n",
        "        write_log(logfile, f\"\\n========== ILS (restarts={restarts}) ==========\")\n",
        "        t0 = time.time()\n",
        "        path, actions = ils(start, goal, logfile, restarts)\n",
        "        t1 = time.time()\n",
        "        if path:\n",
        "            print_path(path, actions, logfile)\n",
        "        else:\n",
        "            write_log(logfile, \"No solution found.\")\n",
        "        write_log(logfile, f\"Time taken: {t1-t0:.4f} seconds\")"
      ],
      "metadata": {
        "id": "2cAz5ml3V3Ci"
      },
      "execution_count": null,
      "outputs": []
    }
  ]
}