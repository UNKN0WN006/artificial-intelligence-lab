{
  "nbformat": 4,
  "nbformat_minor": 0,
  "metadata": {
    "colab": {
      "provenance": []
    },
    "kernelspec": {
      "name": "python3",
      "display_name": "Python 3"
    },
    "language_info": {
      "name": "python"
    }
  },
  "cells": [
    {
      "cell_type": "markdown",
      "source": [
        "## Input File insertion"
      ],
      "metadata": {
        "id": "7rKU5Tm5flMh"
      }
    },
    {
      "cell_type": "code",
      "metadata": {
        "colab": {
          "base_uri": "https://localhost:8080/",
          "height": 350
        },
        "id": "231dfb90",
        "outputId": "58b4e3b3-a191-496f-d75c-f6d6b85e7c23"
      },
      "source": [
        "from google.colab import files\n",
        "\n",
        "uploaded = files.upload()\n",
        "\n",
        "for fn in uploaded.keys():\n",
        "  print('User uploaded file \"{name}\" with length {length} bytes'.format(\n",
        "      name=fn, length=len(uploaded[fn])))"
      ],
      "execution_count": 95,
      "outputs": [
        {
          "output_type": "display_data",
          "data": {
            "text/plain": [
              "<IPython.core.display.HTML object>"
            ],
            "text/html": [
              "\n",
              "     <input type=\"file\" id=\"files-21a09cea-0da0-437c-9e62-bf850335e02a\" name=\"files[]\" multiple disabled\n",
              "        style=\"border:none\" />\n",
              "     <output id=\"result-21a09cea-0da0-437c-9e62-bf850335e02a\">\n",
              "      Upload widget is only available when the cell has been executed in the\n",
              "      current browser session. Please rerun this cell to enable.\n",
              "      </output>\n",
              "      <script>// Copyright 2017 Google LLC\n",
              "//\n",
              "// Licensed under the Apache License, Version 2.0 (the \"License\");\n",
              "// you may not use this file except in compliance with the License.\n",
              "// You may obtain a copy of the License at\n",
              "//\n",
              "//      http://www.apache.org/licenses/LICENSE-2.0\n",
              "//\n",
              "// Unless required by applicable law or agreed to in writing, software\n",
              "// distributed under the License is distributed on an \"AS IS\" BASIS,\n",
              "// WITHOUT WARRANTIES OR CONDITIONS OF ANY KIND, either express or implied.\n",
              "// See the License for the specific language governing permissions and\n",
              "// limitations under the License.\n",
              "\n",
              "/**\n",
              " * @fileoverview Helpers for google.colab Python module.\n",
              " */\n",
              "(function(scope) {\n",
              "function span(text, styleAttributes = {}) {\n",
              "  const element = document.createElement('span');\n",
              "  element.textContent = text;\n",
              "  for (const key of Object.keys(styleAttributes)) {\n",
              "    element.style[key] = styleAttributes[key];\n",
              "  }\n",
              "  return element;\n",
              "}\n",
              "\n",
              "// Max number of bytes which will be uploaded at a time.\n",
              "const MAX_PAYLOAD_SIZE = 100 * 1024;\n",
              "\n",
              "function _uploadFiles(inputId, outputId) {\n",
              "  const steps = uploadFilesStep(inputId, outputId);\n",
              "  const outputElement = document.getElementById(outputId);\n",
              "  // Cache steps on the outputElement to make it available for the next call\n",
              "  // to uploadFilesContinue from Python.\n",
              "  outputElement.steps = steps;\n",
              "\n",
              "  return _uploadFilesContinue(outputId);\n",
              "}\n",
              "\n",
              "// This is roughly an async generator (not supported in the browser yet),\n",
              "// where there are multiple asynchronous steps and the Python side is going\n",
              "// to poll for completion of each step.\n",
              "// This uses a Promise to block the python side on completion of each step,\n",
              "// then passes the result of the previous step as the input to the next step.\n",
              "function _uploadFilesContinue(outputId) {\n",
              "  const outputElement = document.getElementById(outputId);\n",
              "  const steps = outputElement.steps;\n",
              "\n",
              "  const next = steps.next(outputElement.lastPromiseValue);\n",
              "  return Promise.resolve(next.value.promise).then((value) => {\n",
              "    // Cache the last promise value to make it available to the next\n",
              "    // step of the generator.\n",
              "    outputElement.lastPromiseValue = value;\n",
              "    return next.value.response;\n",
              "  });\n",
              "}\n",
              "\n",
              "/**\n",
              " * Generator function which is called between each async step of the upload\n",
              " * process.\n",
              " * @param {string} inputId Element ID of the input file picker element.\n",
              " * @param {string} outputId Element ID of the output display.\n",
              " * @return {!Iterable<!Object>} Iterable of next steps.\n",
              " */\n",
              "function* uploadFilesStep(inputId, outputId) {\n",
              "  const inputElement = document.getElementById(inputId);\n",
              "  inputElement.disabled = false;\n",
              "\n",
              "  const outputElement = document.getElementById(outputId);\n",
              "  outputElement.innerHTML = '';\n",
              "\n",
              "  const pickedPromise = new Promise((resolve) => {\n",
              "    inputElement.addEventListener('change', (e) => {\n",
              "      resolve(e.target.files);\n",
              "    });\n",
              "  });\n",
              "\n",
              "  const cancel = document.createElement('button');\n",
              "  inputElement.parentElement.appendChild(cancel);\n",
              "  cancel.textContent = 'Cancel upload';\n",
              "  const cancelPromise = new Promise((resolve) => {\n",
              "    cancel.onclick = () => {\n",
              "      resolve(null);\n",
              "    };\n",
              "  });\n",
              "\n",
              "  // Wait for the user to pick the files.\n",
              "  const files = yield {\n",
              "    promise: Promise.race([pickedPromise, cancelPromise]),\n",
              "    response: {\n",
              "      action: 'starting',\n",
              "    }\n",
              "  };\n",
              "\n",
              "  cancel.remove();\n",
              "\n",
              "  // Disable the input element since further picks are not allowed.\n",
              "  inputElement.disabled = true;\n",
              "\n",
              "  if (!files) {\n",
              "    return {\n",
              "      response: {\n",
              "        action: 'complete',\n",
              "      }\n",
              "    };\n",
              "  }\n",
              "\n",
              "  for (const file of files) {\n",
              "    const li = document.createElement('li');\n",
              "    li.append(span(file.name, {fontWeight: 'bold'}));\n",
              "    li.append(span(\n",
              "        `(${file.type || 'n/a'}) - ${file.size} bytes, ` +\n",
              "        `last modified: ${\n",
              "            file.lastModifiedDate ? file.lastModifiedDate.toLocaleDateString() :\n",
              "                                    'n/a'} - `));\n",
              "    const percent = span('0% done');\n",
              "    li.appendChild(percent);\n",
              "\n",
              "    outputElement.appendChild(li);\n",
              "\n",
              "    const fileDataPromise = new Promise((resolve) => {\n",
              "      const reader = new FileReader();\n",
              "      reader.onload = (e) => {\n",
              "        resolve(e.target.result);\n",
              "      };\n",
              "      reader.readAsArrayBuffer(file);\n",
              "    });\n",
              "    // Wait for the data to be ready.\n",
              "    let fileData = yield {\n",
              "      promise: fileDataPromise,\n",
              "      response: {\n",
              "        action: 'continue',\n",
              "      }\n",
              "    };\n",
              "\n",
              "    // Use a chunked sending to avoid message size limits. See b/62115660.\n",
              "    let position = 0;\n",
              "    do {\n",
              "      const length = Math.min(fileData.byteLength - position, MAX_PAYLOAD_SIZE);\n",
              "      const chunk = new Uint8Array(fileData, position, length);\n",
              "      position += length;\n",
              "\n",
              "      const base64 = btoa(String.fromCharCode.apply(null, chunk));\n",
              "      yield {\n",
              "        response: {\n",
              "          action: 'append',\n",
              "          file: file.name,\n",
              "          data: base64,\n",
              "        },\n",
              "      };\n",
              "\n",
              "      let percentDone = fileData.byteLength === 0 ?\n",
              "          100 :\n",
              "          Math.round((position / fileData.byteLength) * 100);\n",
              "      percent.textContent = `${percentDone}% done`;\n",
              "\n",
              "    } while (position < fileData.byteLength);\n",
              "  }\n",
              "\n",
              "  // All done.\n",
              "  yield {\n",
              "    response: {\n",
              "      action: 'complete',\n",
              "    }\n",
              "  };\n",
              "}\n",
              "\n",
              "scope.google = scope.google || {};\n",
              "scope.google.colab = scope.google.colab || {};\n",
              "scope.google.colab._files = {\n",
              "  _uploadFiles,\n",
              "  _uploadFilesContinue,\n",
              "};\n",
              "})(self);\n",
              "</script> "
            ]
          },
          "metadata": {}
        },
        {
          "output_type": "stream",
          "name": "stdout",
          "text": [
            "Saving 041_Assignment5_Sushar_Hembram_input_ucs.json to 041_Assignment5_Sushar_Hembram_input_ucs.json\n",
            "Saving 041_Assignment5_Sushar_Hembram_input_ils.json to 041_Assignment5_Sushar_Hembram_input_ils.json\n",
            "Saving 041_Assignment5_Sushar_Hembram_input_ids.json to 041_Assignment5_Sushar_Hembram_input_ids.json\n",
            "Saving 041_Assignment5_Sushar_Hembram_input_dls.json to 041_Assignment5_Sushar_Hembram_input_dls.json\n",
            "Saving 041_Assignment5_Sushar_Hembram_input_dfs.json to 041_Assignment5_Sushar_Hembram_input_dfs.json\n",
            "Saving 041_Assignment5_Sushar_Hembram_input_bfs.json to 041_Assignment5_Sushar_Hembram_input_bfs.json\n",
            "User uploaded file \"041_Assignment5_Sushar_Hembram_input_ucs.json\" with length 157 bytes\n",
            "User uploaded file \"041_Assignment5_Sushar_Hembram_input_ils.json\" with length 160 bytes\n",
            "User uploaded file \"041_Assignment5_Sushar_Hembram_input_ids.json\" with length 157 bytes\n",
            "User uploaded file \"041_Assignment5_Sushar_Hembram_input_dls.json\" with length 159 bytes\n",
            "User uploaded file \"041_Assignment5_Sushar_Hembram_input_dfs.json\" with length 139 bytes\n",
            "User uploaded file \"041_Assignment5_Sushar_Hembram_input_bfs.json\" with length 139 bytes\n"
          ]
        }
      ]
    },
    {
      "cell_type": "markdown",
      "source": [
        "## Missionaries and Carnivals Problem (in BFS, DLS, DFS, IDS, ILS, UCS)"
      ],
      "metadata": {
        "id": "DtS149cP-AMb"
      }
    },
    {
      "cell_type": "code",
      "execution_count": 96,
      "metadata": {
        "id": "DAZChb4v5b4N"
      },
      "outputs": [],
      "source": [
        "import time\n",
        "import resource\n",
        "import json\n",
        "from collections import deque\n",
        "import matplotlib.pyplot as plt\n",
        "import pandas as pd"
      ]
    },
    {
      "cell_type": "code",
      "source": [
        "def get_memory_kb():\n",
        "    return resource.getrusage(resource.RUSAGE_SELF).ru_maxrss"
      ],
      "metadata": {
        "id": "UgdFHFmIE6BC"
      },
      "execution_count": 97,
      "outputs": []
    },
    {
      "cell_type": "code",
      "source": [
        "def is_valid(state):\n",
        "    f, w, g, c, b = state\n",
        "    if g == w and f != g: return False\n",
        "    if g == c and f != g: return False\n",
        "    return True\n",
        "\n",
        "def next_states(state):\n",
        "    f, w, g, c, b = state\n",
        "    nb = 'R' if b == 'L' else 'L'\n",
        "    moves = []\n",
        "    # Farmer alone\n",
        "    ns = (nb if f == b else f, w, g, c, nb)\n",
        "    if is_valid(ns): moves.append((ns, \"F alone\"))\n",
        "    # Farmer + Wolf\n",
        "    if f == w == b:\n",
        "        ns = (nb, nb, g, c, nb)\n",
        "        if is_valid(ns): moves.append((ns, \"F+W\"))\n",
        "    # Farmer + Goat\n",
        "    if f == g == b:\n",
        "        ns = (nb, w, nb, c, nb)\n",
        "        if is_valid(ns): moves.append((ns, \"F+G\"))\n",
        "    # Farmer + Cabbage\n",
        "    if f == c == b:\n",
        "        ns = (nb, w, g, nb, nb)\n",
        "        if is_valid(ns): moves.append((ns, \"F+C\"))\n",
        "    return moves"
      ],
      "metadata": {
        "id": "X_8FxYEbGi0K"
      },
      "execution_count": 98,
      "outputs": []
    },
    {
      "cell_type": "code",
      "source": [
        "def state_str(s):\n",
        "    n = ['F', 'W', 'G', 'C', 'B']\n",
        "    return ', '.join(f\"{x}:{y}\" for x, y in zip(n, s))"
      ],
      "metadata": {
        "id": "UhAKQZEHGy45"
      },
      "execution_count": 99,
      "outputs": []
    },
    {
      "cell_type": "code",
      "source": [
        "def log_step(logfile, msg):\n",
        "    with open(logfile, 'a') as f:\n",
        "        f.write(msg + '\\n')"
      ],
      "metadata": {
        "id": "SkxeZf9eHESx"
      },
      "execution_count": 100,
      "outputs": []
    },
    {
      "cell_type": "markdown",
      "source": [
        "### BFS (Breadth First Search)"
      ],
      "metadata": {
        "id": "slbDEr5g-8dz"
      }
    },
    {
      "cell_type": "code",
      "source": [
        "def bfs(start, goal, logfile):\n",
        "    queue = deque()\n",
        "    queue.append((start, [start], []))\n",
        "    visited = set()\n",
        "    step = 0\n",
        "    while queue:\n",
        "        s, path, actions = queue.popleft()\n",
        "        log_step(logfile, f\"Step {step}: {state_str(s)}\")\n",
        "        log_step(logfile, f\"Frontier: {[state_str(x[0]) for x in queue]}\")\n",
        "        if s == goal:\n",
        "            return path, actions\n",
        "        visited.add(s)\n",
        "        for ns, a in next_states(s):\n",
        "            if ns not in visited:\n",
        "                queue.append((ns, path + [ns], actions + [a]))\n",
        "        step += 1\n",
        "    return None, None"
      ],
      "metadata": {
        "id": "Cnv3wVlF97ky"
      },
      "execution_count": 101,
      "outputs": []
    },
    {
      "cell_type": "markdown",
      "source": [
        "### DFS (Depth First Search)"
      ],
      "metadata": {
        "id": "toxEUZQgJvcK"
      }
    },
    {
      "cell_type": "markdown",
      "source": [
        "Exploring as far as possible along each branch before backtracking using a stack (LIFO). If depth_limit is set, the program performs a Depth-Limited Search (DLS).\n",
        "    "
      ],
      "metadata": {
        "id": "297SgEQ0MY3i"
      }
    },
    {
      "cell_type": "code",
      "source": [
        "def dfs(start, goal, logfile):\n",
        "    stack = [(start, [start], [])]\n",
        "    visited = set()\n",
        "    step = 0\n",
        "    while stack:\n",
        "        s, path, actions = stack.pop()\n",
        "        log_step(logfile, f\"Step {step}: {state_str(s)}\")\n",
        "        log_step(logfile, f\"Stack: {[state_str(x[0]) for x in stack]}\")\n",
        "        if s == goal:\n",
        "            return path, actions\n",
        "        visited.add(s)\n",
        "        for ns, a in next_states(s):\n",
        "            if ns not in visited:\n",
        "                stack.append((ns, path + [ns], actions + [a]))\n",
        "        step += 1\n",
        "    return None, None"
      ],
      "metadata": {
        "id": "6CtrPoxNKJLa"
      },
      "execution_count": 102,
      "outputs": []
    },
    {
      "cell_type": "markdown",
      "source": [
        "### DLS (Depth Limited Search)"
      ],
      "metadata": {
        "id": "ENe6nL-XN5Y6"
      }
    },
    {
      "cell_type": "code",
      "source": [
        "def dls(start, goal, logfile, limit):\n",
        "    stack = [(start, [start], [], 0)]\n",
        "    visited = set()\n",
        "    step = 0\n",
        "    while stack:\n",
        "        s, path, actions, depth = stack.pop()\n",
        "        log_step(logfile, f\"Step {step}: {state_str(s)} (depth {depth})\")\n",
        "        if s == goal:\n",
        "            return path, actions\n",
        "        if depth >= limit:\n",
        "            continue\n",
        "        visited.add(s)\n",
        "        for ns, a in next_states(s):\n",
        "            if ns not in visited:\n",
        "                stack.append((ns, path + [ns], actions + [a], depth + 1))\n",
        "        step += 1\n",
        "    return None, None"
      ],
      "metadata": {
        "id": "U4dSvurVO13C"
      },
      "execution_count": 103,
      "outputs": []
    },
    {
      "cell_type": "markdown",
      "source": [
        "### IDS (Iterative Deepening Search)"
      ],
      "metadata": {
        "id": "R5I26WblPecz"
      }
    },
    {
      "cell_type": "markdown",
      "source": [
        "Repeatedly applying DLS with increasing depth limits.\n",
        "    "
      ],
      "metadata": {
        "id": "6ipELIdZQE_i"
      }
    },
    {
      "cell_type": "code",
      "source": [
        "def ids(start, goal, logfile, max_depth):\n",
        "    for limit in range(1, max_depth+1):\n",
        "        log_step(logfile, f\"IDS: Trying depth {limit}\")\n",
        "        result = dls(start, goal, logfile, limit)\n",
        "        if result[0]:\n",
        "            return result\n",
        "    return None, None"
      ],
      "metadata": {
        "id": "KFUaia1zPwAq"
      },
      "execution_count": 104,
      "outputs": []
    },
    {
      "cell_type": "markdown",
      "source": [
        "### UCS (Uniform Cost Search)"
      ],
      "metadata": {
        "id": "CoEENQhvSo4C"
      }
    },
    {
      "cell_type": "markdown",
      "source": [
        "Expanding the least-codenode using a priority queue."
      ],
      "metadata": {
        "id": "CJ_0ztGUTU2a"
      }
    },
    {
      "cell_type": "code",
      "source": [
        "def ucs(start, goal, logfile, step_cost=1):\n",
        "    import heapq\n",
        "    heap = []\n",
        "    heapq.heappush(heap, (0, start, [start], []))\n",
        "    visited = set()\n",
        "    step = 0\n",
        "    while heap:\n",
        "        cost, s, path, actions = heapq.heappop(heap)\n",
        "        log_step(logfile, f\"Step {step}: {state_str(s)} (cost {cost})\")\n",
        "        log_step(logfile, f\"Heap: {[state_str(x[1]) for x in heap]}\")\n",
        "        if s == goal:\n",
        "            return path, actions\n",
        "        visited.add(s)\n",
        "        for ns, a in next_states(s):\n",
        "            if ns not in visited:\n",
        "                heapq.heappush(heap, (cost + step_cost, ns, path + [ns], actions + [a]))\n",
        "        step += 1\n",
        "    return None, None"
      ],
      "metadata": {
        "id": "RKhQ5M0ETRS6"
      },
      "execution_count": 105,
      "outputs": []
    },
    {
      "cell_type": "markdown",
      "source": [
        "### ILS (Iterative Local Search)"
      ],
      "metadata": {
        "id": "YII5GddRUb0C"
      }
    },
    {
      "cell_type": "markdown",
      "source": [
        "Performing multiple DFS runs with randomization and restarting."
      ],
      "metadata": {
        "id": "2m_P9CQ2U-wq"
      }
    },
    {
      "cell_type": "code",
      "source": [
        "def ils(start, goal, logfile, max_restarts=5):\n",
        "    import random\n",
        "    best_path = None\n",
        "    best_actions = None\n",
        "    for restart in range(max_restarts):\n",
        "        log_step(logfile, f\"ILS: Restart {restart}\")\n",
        "        stack = [(start, [start], [], 0)]\n",
        "        visited = set()\n",
        "        while stack:\n",
        "            s, path, actions, depth = stack.pop()\n",
        "            log_step(logfile, f\"ILS Step: {state_str(s)} (d {depth})\")\n",
        "            if s == goal:\n",
        "                if not best_path or len(path) < len(best_path):\n",
        "                    best_path = path\n",
        "                    best_actions = actions\n",
        "                break\n",
        "            visited.add(s)\n",
        "            nxt = next_states(s)\n",
        "            random.shuffle(nxt)\n",
        "            for ns, a in nxt:\n",
        "                if ns not in visited:\n",
        "                    stack.append((ns, path + [ns], actions + [a], depth + 1))\n",
        "    return best_path, best_actions"
      ],
      "metadata": {
        "id": "WoiUqC03UmKx"
      },
      "execution_count": 106,
      "outputs": []
    },
    {
      "cell_type": "markdown",
      "source": [
        "## Main Function"
      ],
      "metadata": {
        "id": "AtEVBvf8VyYC"
      }
    },
    {
      "cell_type": "code",
      "source": [
        "def run_and_log(algo_name, algo_func, params, logfile, **kwargs):\n",
        "    open(logfile, 'w').close()  # Clear log\n",
        "    start = tuple(params[\"start\"])\n",
        "    goal = tuple(params[\"goal\"])\n",
        "    mem_before = get_memory_kb()\n",
        "    t0 = time.time()\n",
        "    if kwargs:\n",
        "        path, actions = algo_func(start, goal, logfile, **kwargs)\n",
        "    else:\n",
        "        path, actions = algo_func(start, goal, logfile)\n",
        "    t1 = time.time()\n",
        "    mem_after = get_memory_kb()\n",
        "    if path:\n",
        "        log_step(logfile, f\"Solution in {len(path)-1} steps:\")\n",
        "        for i, (s, a) in enumerate(zip(path[1:], actions)):\n",
        "            log_step(logfile, f\"Step {i+1}: {a} -> {state_str(s)}\")\n",
        "    else:\n",
        "        log_step(logfile, \"No solution found.\")\n",
        "    log_step(logfile, f\"Time: {t1-t0:.4f}s\")\n",
        "    log_step(logfile, f\"Memory used: {mem_after - mem_before} KB\")\n",
        "    return {\n",
        "        \"algorithm\": algo_name,\n",
        "        \"param\": kwargs.get(\"limit\", kwargs.get(\"max_depth\", None)),\n",
        "        \"time\": t1-t0,\n",
        "        \"memory\": mem_after - mem_before\n",
        "    }"
      ],
      "metadata": {
        "id": "2cAz5ml3V3Ci"
      },
      "execution_count": 107,
      "outputs": []
    },
    {
      "cell_type": "code",
      "source": [
        "results = []\n",
        "\n",
        "# BFS\n",
        "with open(\"041_Assignment5_Sushar_Hembram_input_bfs.json\") as f:\n",
        "    params = json.load(f)\n",
        "results.append(run_and_log(\"BFS\", bfs, params, params[\"logfile\"]))\n",
        "\n",
        "# DFS\n",
        "with open(\"041_Assignment5_Sushar_Hembram_input_dfs.json\") as f:\n",
        "    params = json.load(f)\n",
        "results.append(run_and_log(\"DFS\", dfs, params, params[\"logfile\"]))\n",
        "\n",
        "# DLS\n",
        "with open(\"041_Assignment5_Sushar_Hembram_input_dls.json\") as f:\n",
        "    params = json.load(f)\n",
        "for d in [2, 3, 4]:\n",
        "    results.append(run_and_log(\"DLS\", dls, params, f\"041_Assignment5_Sushar_Hembram_output_dls_{d}.txt\", limit=d))\n",
        "\n",
        "# IDS\n",
        "with open(\"041_Assignment5_Sushar_Hembram_input_ids.json\") as f:\n",
        "    params = json.load(f)\n",
        "for d in [2, 3, 4]:\n",
        "    results.append(run_and_log(\"IDS\", ids, params, f\"041_Assignment5_Sushar_Hembram_output_ids_{d}.txt\", max_depth=d))\n",
        "\n",
        "# UCS\n",
        "with open(\"041_Assignment5_Sushar_Hembram_input_ucs.json\") as f:\n",
        "    params = json.load(f)\n",
        "step_cost = params.get(\"step_cost\", 1)\n",
        "results.append(run_and_log(\"UCS\", ucs, params, params[\"logfile\"], step_cost=step_cost))\n",
        "\n",
        "# ILS\n",
        "with open(\"041_Assignment5_Sushar_Hembram_input_ils.json\") as f:\n",
        "    params = json.load(f)\n",
        "max_restarts = params.get(\"max_restarts\", 5)\n",
        "results.append(run_and_log(\"ILS\", ils, params, params[\"logfile\"], max_restarts=max_restarts))"
      ],
      "metadata": {
        "id": "6b2bkNdbau97"
      },
      "execution_count": 112,
      "outputs": []
    },
    {
      "cell_type": "code",
      "source": [
        "df = pd.DataFrame(results)\n",
        "print(df)\n",
        "df.to_csv(\"041_Sushar_Hembram_Assignment5_results_summary.csv\", index=False)\n",
        "\n",
        "# Bar plots for all algorithms\n",
        "# Saving each plotting into png files\n",
        "plt.figure(figsize=(8,4))\n",
        "plt.bar(df['algorithm'] + df['param'].astype(str), df['time'])\n",
        "plt.ylabel(\"Time (seconds)\")\n",
        "plt.title(\"Algorithm Time Comparison\")\n",
        "plt.savefig(\"041_Assignment5_Sushar_Hembram_algorithm_time_comparison.png\")\n",
        "plt.show()\n",
        "\n",
        "plt.figure(figsize=(8,4))\n",
        "plt.bar(df['algorithm'] + df['param'].astype(str), df['memory'])\n",
        "plt.ylabel(\"Memory (KB)\")\n",
        "plt.title(\"Algorithm Memory Comparison\")\n",
        "plt.savefig(\"041_Assignment5_Sushar_Hembram_algorithm_memory_comparison.png\")\n",
        "plt.show()\n",
        "\n",
        "# For DLS/IDS parameter plots\n",
        "for algo in ['DLS', 'IDS']:\n",
        "    sub = df[df['algorithm'] == algo]\n",
        "    if not sub.empty:\n",
        "        plt.figure(figsize=(8,4))\n",
        "        plt.plot(sub['param'], sub['time'], marker='o')\n",
        "        plt.xlabel(\"Depth Limit\")\n",
        "        plt.ylabel(\"Time (seconds)\")\n",
        "        plt.title(f\"{algo} Time vs Depth\")\n",
        "        plt.savefig(f\"041_Assignment5_Sushar_Hembram_{algo.lower()}_time_vs_depth.png\")\n",
        "        plt.show()\n",
        "\n",
        "        plt.figure(figsize=(8,4))\n",
        "        plt.plot(sub['param'], sub['memory'], marker='o')\n",
        "        plt.xlabel(\"Depth Limit\")\n",
        "        plt.ylabel(\"Memory (KB)\")\n",
        "        plt.title(f\"{algo} Memory vs Depth\")\n",
        "        plt.savefig(f\"041_Assignment5_Sushar_Hembram_{algo.lower()}_memory_vs_depth.png\")\n",
        "        plt.show()"
      ],
      "metadata": {
        "id": "G4GPBXZwa3qp",
        "colab": {
          "base_uri": "https://localhost:8080/",
          "height": 1000
        },
        "outputId": "15df2ceb-316e-4c9a-d8ac-e2505e98fb9c"
      },
      "execution_count": 113,
      "outputs": [
        {
          "output_type": "stream",
          "name": "stdout",
          "text": [
            "  algorithm  param      time  memory\n",
            "0       BFS    NaN  0.000916       0\n",
            "1       DFS    NaN  0.000710       0\n",
            "2       DLS    2.0  0.000171       0\n",
            "3       DLS    3.0  0.000211       0\n",
            "4       DLS    4.0  0.000240       0\n",
            "5       IDS    2.0  0.000250       0\n",
            "6       IDS    3.0  0.000482       0\n",
            "7       IDS    4.0  0.000674       0\n",
            "8       UCS    NaN  0.000870       0\n",
            "9       ILS    NaN  0.001841       0\n"
          ]
        },
        {
          "output_type": "display_data",
          "data": {
            "text/plain": [
              "<Figure size 800x400 with 1 Axes>"
            ],
            "image/png": "[encoded data removed]"
          },
          "metadata": {}
        },
        {
          "output_type": "display_data",
          "data": {
            "text/plain": [
              "<Figure size 800x400 with 1 Axes>"
            ],
            "image/png": "[encoded data removed]"
          },
          "metadata": {}
        },
        {
          "output_type": "display_data",
          "data": {
            "text/plain": [
              "<Figure size 800x400 with 1 Axes>"
            ],
            "image/png": "[encoded data removed]"
          },
          "metadata": {}
        },
        {
          "output_type": "display_data",
          "data": {
            "text/plain": [
              "<Figure size 800x400 with 1 Axes>"
            ],
            "image/png": "[encoded data removed]"
          },
          "metadata": {}
        },
        {
          "output_type": "display_data",
          "data": {
            "text/plain": [
              "<Figure size 800x400 with 1 Axes>"
            ],
            "image/png": "[encoded data removed]"
          },
          "metadata": {}
        },
        {
          "output_type": "display_data",
          "data": {
            "text/plain": [
              "<Figure size 800x400 with 1 Axes>"
            ],
            "image/png": "[encoded data removed]"
          },
          "metadata": {}
        }
      ]
    },
    {
      "cell_type": "code",
      "metadata": {
        "colab": {
          "base_uri": "https://localhost:8080/",
          "height": 17
        },
        "id": "0ff9bcaa",
        "outputId": "ee873fc0-5d7e-4a07-88cd-56bc4f1fd7e1"
      },
      "source": [
        "from google.colab import files\n",
        "\n",
        "# Commented out previous download calls.\n",
        "# files.download('041_Sushar_Hembram_Assignment5_results_summary.csv')\n",
        "# files.download('041_Assignment5_Sushar_Hembram_algorithm_time_comparison.png')\n",
        "# files.download('041_Assignment5_Sushar_Hembram_algorithm_memory_comparison.png')\n",
        "# files.download('041_Assignment5_Sushar_Hembram_dls_time_vs_depth.png')\n",
        "# files.download('041_Assignment5_Sushar_Hembram_dls_memory_vs_depth.png')\n",
        "# files.download('041_Assignment5_Sushar_Hembram_ids_time_vs_depth.png')\n",
        "# files.download('041_Assignment5_Sushar_Hembram_ids_memory_vs_depth.png')\n",
        "# files.download('041_Sushar_Hembram_Assignment5_output_bfs.txt')\n",
        "# files.download('041_Sushar_Hembram_Assignment5_output_dfs.txt')\n",
        "# files.download('041_Assignment5_Sushar_Hembram_output_dls_2.txt')\n",
        "files.download('041_Assignment5_Sushar_Hembram_output_dls_3.txt')\n",
        "files.download('041_Assignment5_Sushar_Hembram_output_dls_4.txt')\n",
        "files.download('041_Assignment5_Sushar_Hembram_output_ids_2.txt')\n",
        "files.download('041_Assignment5_Sushar_Hembram_output_ids_3.txt')\n",
        "files.download('041_Assignment5_Sushar_Hembram_output_ids_4.txt')\n",
        "files.download('041_Sushar_Hembram_Assignment5_output_ucs.txt')\n",
        "files.download('041_Sushar_Hembram_Assignment5_output_ils.txt')\n"
      ],
      "execution_count": 117,
      "outputs": [
        {
          "output_type": "display_data",
          "data": {
            "text/plain": [
              "<IPython.core.display.Javascript object>"
            ],
            "application/javascript": [
              "\n",
              "    async function download(id, filename, size) {\n",
              "      if (!google.colab.kernel.accessAllowed) {\n",
              "        return;\n",
              "      }\n",
              "      const div = document.createElement('div');\n",
              "      const label = document.createElement('label');\n",
              "      label.textContent = `Downloading \"${filename}\": `;\n",
              "      div.appendChild(label);\n",
              "      const progress = document.createElement('progress');\n",
              "      progress.max = size;\n",
              "      div.appendChild(progress);\n",
              "      document.body.appendChild(div);\n",
              "\n",
              "      const buffers = [];\n",
              "      let downloaded = 0;\n",
              "\n",
              "      const channel = await google.colab.kernel.comms.open(id);\n",
              "      // Send a message to notify the kernel that we're ready.\n",
              "      channel.send({})\n",
              "\n",
              "      for await (const message of channel.messages) {\n",
              "        // Send a message to notify the kernel that we're ready.\n",
              "        channel.send({})\n",
              "        if (message.buffers) {\n",
              "          for (const buffer of message.buffers) {\n",
              "            buffers.push(buffer);\n",
              "            downloaded += buffer.byteLength;\n",
              "            progress.value = downloaded;\n",
              "          }\n",
              "        }\n",
              "      }\n",
              "      const blob = new Blob(buffers, {type: 'application/binary'});\n",
              "      const a = document.createElement('a');\n",
              "      a.href = window.URL.createObjectURL(blob);\n",
              "      a.download = filename;\n",
              "      div.appendChild(a);\n",
              "      a.click();\n",
              "      div.remove();\n",
              "    }\n",
              "  "
            ]
          },
          "metadata": {}
        },
        {
          "output_type": "display_data",
          "data": {
            "text/plain": [
              "<IPython.core.display.Javascript object>"
            ],
            "application/javascript": [
              "download(\"download_fa603706-bedc-4c65-8747-2e38a3433d91\", \"041_Assignment5_Sushar_Hembram_output_dls_3.txt\", 261)"
            ]
          },
          "metadata": {}
        },
        {
          "output_type": "display_data",
          "data": {
            "text/plain": [
              "<IPython.core.display.Javascript object>"
            ],
            "application/javascript": [
              "\n",
              "    async function download(id, filename, size) {\n",
              "      if (!google.colab.kernel.accessAllowed) {\n",
              "        return;\n",
              "      }\n",
              "      const div = document.createElement('div');\n",
              "      const label = document.createElement('label');\n",
              "      label.textContent = `Downloading \"${filename}\": `;\n",
              "      div.appendChild(label);\n",
              "      const progress = document.createElement('progress');\n",
              "      progress.max = size;\n",
              "      div.appendChild(progress);\n",
              "      document.body.appendChild(div);\n",
              "\n",
              "      const buffers = [];\n",
              "      let downloaded = 0;\n",
              "\n",
              "      const channel = await google.colab.kernel.comms.open(id);\n",
              "      // Send a message to notify the kernel that we're ready.\n",
              "      channel.send({})\n",
              "\n",
              "      for await (const message of channel.messages) {\n",
              "        // Send a message to notify the kernel that we're ready.\n",
              "        channel.send({})\n",
              "        if (message.buffers) {\n",
              "          for (const buffer of message.buffers) {\n",
              "            buffers.push(buffer);\n",
              "            downloaded += buffer.byteLength;\n",
              "            progress.value = downloaded;\n",
              "          }\n",
              "        }\n",
              "      }\n",
              "      const blob = new Blob(buffers, {type: 'application/binary'});\n",
              "      const a = document.createElement('a');\n",
              "      a.href = window.URL.createObjectURL(blob);\n",
              "      a.download = filename;\n",
              "      div.appendChild(a);\n",
              "      a.click();\n",
              "      div.remove();\n",
              "    }\n",
              "  "
            ]
          },
          "metadata": {}
        },
        {
          "output_type": "display_data",
          "data": {
            "text/plain": [
              "<IPython.core.display.Javascript object>"
            ],
            "application/javascript": [
              "download(\"download_eb580d1a-44e6-45c2-8880-e00722bfb342\", \"041_Assignment5_Sushar_Hembram_output_dls_4.txt\", 345)"
            ]
          },
          "metadata": {}
        },
        {
          "output_type": "display_data",
          "data": {
            "text/plain": [
              "<IPython.core.display.Javascript object>"
            ],
            "application/javascript": [
              "\n",
              "    async function download(id, filename, size) {\n",
              "      if (!google.colab.kernel.accessAllowed) {\n",
              "        return;\n",
              "      }\n",
              "      const div = document.createElement('div');\n",
              "      const label = document.createElement('label');\n",
              "      label.textContent = `Downloading \"${filename}\": `;\n",
              "      div.appendChild(label);\n",
              "      const progress = document.createElement('progress');\n",
              "      progress.max = size;\n",
              "      div.appendChild(progress);\n",
              "      document.body.appendChild(div);\n",
              "\n",
              "      const buffers = [];\n",
              "      let downloaded = 0;\n",
              "\n",
              "      const channel = await google.colab.kernel.comms.open(id);\n",
              "      // Send a message to notify the kernel that we're ready.\n",
              "      channel.send({})\n",
              "\n",
              "      for await (const message of channel.messages) {\n",
              "        // Send a message to notify the kernel that we're ready.\n",
              "        channel.send({})\n",
              "        if (message.buffers) {\n",
              "          for (const buffer of message.buffers) {\n",
              "            buffers.push(buffer);\n",
              "            downloaded += buffer.byteLength;\n",
              "            progress.value = downloaded;\n",
              "          }\n",
              "        }\n",
              "      }\n",
              "      const blob = new Blob(buffers, {type: 'application/binary'});\n",
              "      const a = document.createElement('a');\n",
              "      a.href = window.URL.createObjectURL(blob);\n",
              "      a.download = filename;\n",
              "      div.appendChild(a);\n",
              "      a.click();\n",
              "      div.remove();\n",
              "    }\n",
              "  "
            ]
          },
          "metadata": {}
        },
        {
          "output_type": "display_data",
          "data": {
            "text/plain": [
              "<IPython.core.display.Javascript object>"
            ],
            "application/javascript": [
              "download(\"download_bdd5a49a-96b2-4117-bbb3-690f335bdd3f\", \"041_Assignment5_Sushar_Hembram_output_ids_2.txt\", 301)"
            ]
          },
          "metadata": {}
        },
        {
          "output_type": "display_data",
          "data": {
            "text/plain": [
              "<IPython.core.display.Javascript object>"
            ],
            "application/javascript": [
              "\n",
              "    async function download(id, filename, size) {\n",
              "      if (!google.colab.kernel.accessAllowed) {\n",
              "        return;\n",
              "      }\n",
              "      const div = document.createElement('div');\n",
              "      const label = document.createElement('label');\n",
              "      label.textContent = `Downloading \"${filename}\": `;\n",
              "      div.appendChild(label);\n",
              "      const progress = document.createElement('progress');\n",
              "      progress.max = size;\n",
              "      div.appendChild(progress);\n",
              "      document.body.appendChild(div);\n",
              "\n",
              "      const buffers = [];\n",
              "      let downloaded = 0;\n",
              "\n",
              "      const channel = await google.colab.kernel.comms.open(id);\n",
              "      // Send a message to notify the kernel that we're ready.\n",
              "      channel.send({})\n",
              "\n",
              "      for await (const message of channel.messages) {\n",
              "        // Send a message to notify the kernel that we're ready.\n",
              "        channel.send({})\n",
              "        if (message.buffers) {\n",
              "          for (const buffer of message.buffers) {\n",
              "            buffers.push(buffer);\n",
              "            downloaded += buffer.byteLength;\n",
              "            progress.value = downloaded;\n",
              "          }\n",
              "        }\n",
              "      }\n",
              "      const blob = new Blob(buffers, {type: 'application/binary'});\n",
              "      const a = document.createElement('a');\n",
              "      a.href = window.URL.createObjectURL(blob);\n",
              "      a.download = filename;\n",
              "      div.appendChild(a);\n",
              "      a.click();\n",
              "      div.remove();\n",
              "    }\n",
              "  "
            ]
          },
          "metadata": {}
        },
        {
          "output_type": "display_data",
          "data": {
            "text/plain": [
              "<IPython.core.display.Javascript object>"
            ],
            "application/javascript": [
              "download(\"download_5b4e7aae-8e20-46d4-81ac-890bacdb49ec\", \"041_Assignment5_Sushar_Hembram_output_ids_3.txt\", 531)"
            ]
          },
          "metadata": {}
        },
        {
          "output_type": "display_data",
          "data": {
            "text/plain": [
              "<IPython.core.display.Javascript object>"
            ],
            "application/javascript": [
              "\n",
              "    async function download(id, filename, size) {\n",
              "      if (!google.colab.kernel.accessAllowed) {\n",
              "        return;\n",
              "      }\n",
              "      const div = document.createElement('div');\n",
              "      const label = document.createElement('label');\n",
              "      label.textContent = `Downloading \"${filename}\": `;\n",
              "      div.appendChild(label);\n",
              "      const progress = document.createElement('progress');\n",
              "      progress.max = size;\n",
              "      div.appendChild(progress);\n",
              "      document.body.appendChild(div);\n",
              "\n",
              "      const buffers = [];\n",
              "      let downloaded = 0;\n",
              "\n",
              "      const channel = await google.colab.kernel.comms.open(id);\n",
              "      // Send a message to notify the kernel that we're ready.\n",
              "      channel.send({})\n",
              "\n",
              "      for await (const message of channel.messages) {\n",
              "        // Send a message to notify the kernel that we're ready.\n",
              "        channel.send({})\n",
              "        if (message.buffers) {\n",
              "          for (const buffer of message.buffers) {\n",
              "            buffers.push(buffer);\n",
              "            downloaded += buffer.byteLength;\n",
              "            progress.value = downloaded;\n",
              "          }\n",
              "        }\n",
              "      }\n",
              "      const blob = new Blob(buffers, {type: 'application/binary'});\n",
              "      const a = document.createElement('a');\n",
              "      a.href = window.URL.createObjectURL(blob);\n",
              "      a.download = filename;\n",
              "      div.appendChild(a);\n",
              "      a.click();\n",
              "      div.remove();\n",
              "    }\n",
              "  "
            ]
          },
          "metadata": {}
        },
        {
          "output_type": "display_data",
          "data": {
            "text/plain": [
              "<IPython.core.display.Javascript object>"
            ],
            "application/javascript": [
              "download(\"download_25a8fca6-f745-49ed-aa61-6a62c0b69624\", \"041_Assignment5_Sushar_Hembram_output_ids_4.txt\", 845)"
            ]
          },
          "metadata": {}
        },
        {
          "output_type": "display_data",
          "data": {
            "text/plain": [
              "<IPython.core.display.Javascript object>"
            ],
            "application/javascript": [
              "\n",
              "    async function download(id, filename, size) {\n",
              "      if (!google.colab.kernel.accessAllowed) {\n",
              "        return;\n",
              "      }\n",
              "      const div = document.createElement('div');\n",
              "      const label = document.createElement('label');\n",
              "      label.textContent = `Downloading \"${filename}\": `;\n",
              "      div.appendChild(label);\n",
              "      const progress = document.createElement('progress');\n",
              "      progress.max = size;\n",
              "      div.appendChild(progress);\n",
              "      document.body.appendChild(div);\n",
              "\n",
              "      const buffers = [];\n",
              "      let downloaded = 0;\n",
              "\n",
              "      const channel = await google.colab.kernel.comms.open(id);\n",
              "      // Send a message to notify the kernel that we're ready.\n",
              "      channel.send({})\n",
              "\n",
              "      for await (const message of channel.messages) {\n",
              "        // Send a message to notify the kernel that we're ready.\n",
              "        channel.send({})\n",
              "        if (message.buffers) {\n",
              "          for (const buffer of message.buffers) {\n",
              "            buffers.push(buffer);\n",
              "            downloaded += buffer.byteLength;\n",
              "            progress.value = downloaded;\n",
              "          }\n",
              "        }\n",
              "      }\n",
              "      const blob = new Blob(buffers, {type: 'application/binary'});\n",
              "      const a = document.createElement('a');\n",
              "      a.href = window.URL.createObjectURL(blob);\n",
              "      a.download = filename;\n",
              "      div.appendChild(a);\n",
              "      a.click();\n",
              "      div.remove();\n",
              "    }\n",
              "  "
            ]
          },
          "metadata": {}
        },
        {
          "output_type": "display_data",
          "data": {
            "text/plain": [
              "<IPython.core.display.Javascript object>"
            ],
            "application/javascript": [
              "download(\"download_975ad9b2-8766-415a-87ad-dacdb0bd8c16\", \"041_Sushar_Hembram_Assignment5_output_ucs.txt\", 1166)"
            ]
          },
          "metadata": {}
        },
        {
          "output_type": "display_data",
          "data": {
            "text/plain": [
              "<IPython.core.display.Javascript object>"
            ],
            "application/javascript": [
              "\n",
              "    async function download(id, filename, size) {\n",
              "      if (!google.colab.kernel.accessAllowed) {\n",
              "        return;\n",
              "      }\n",
              "      const div = document.createElement('div');\n",
              "      const label = document.createElement('label');\n",
              "      label.textContent = `Downloading \"${filename}\": `;\n",
              "      div.appendChild(label);\n",
              "      const progress = document.createElement('progress');\n",
              "      progress.max = size;\n",
              "      div.appendChild(progress);\n",
              "      document.body.appendChild(div);\n",
              "\n",
              "      const buffers = [];\n",
              "      let downloaded = 0;\n",
              "\n",
              "      const channel = await google.colab.kernel.comms.open(id);\n",
              "      // Send a message to notify the kernel that we're ready.\n",
              "      channel.send({})\n",
              "\n",
              "      for await (const message of channel.messages) {\n",
              "        // Send a message to notify the kernel that we're ready.\n",
              "        channel.send({})\n",
              "        if (message.buffers) {\n",
              "          for (const buffer of message.buffers) {\n",
              "            buffers.push(buffer);\n",
              "            downloaded += buffer.byteLength;\n",
              "            progress.value = downloaded;\n",
              "          }\n",
              "        }\n",
              "      }\n",
              "      const blob = new Blob(buffers, {type: 'application/binary'});\n",
              "      const a = document.createElement('a');\n",
              "      a.href = window.URL.createObjectURL(blob);\n",
              "      a.download = filename;\n",
              "      div.appendChild(a);\n",
              "      a.click();\n",
              "      div.remove();\n",
              "    }\n",
              "  "
            ]
          },
          "metadata": {}
        },
        {
          "output_type": "display_data",
          "data": {
            "text/plain": [
              "<IPython.core.display.Javascript object>"
            ],
            "application/javascript": [
              "download(\"download_152f5fd7-d1ee-4317-9de3-f3344068e9b4\", \"041_Sushar_Hembram_Assignment5_output_ils.txt\", 2249)"
            ]
          },
          "metadata": {}
        }
      ]
    }
  ]
}