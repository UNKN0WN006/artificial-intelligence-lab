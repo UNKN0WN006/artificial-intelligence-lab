{
  "nbformat": 4,
  "nbformat_minor": 0,
  "metadata": {
    "colab": {
      "provenance": []
    },
    "kernelspec": {
      "name": "python3",
      "display_name": "Python 3"
    },
    "language_info": {
      "name": "python"
    }
  },
  "cells": [
    {
      "cell_type": "markdown",
      "source": [
        "#### **Assignment 4**: n-Puzzle Depth-Limited Search\n"
      ],
      "metadata": {
        "id": "Sg9qi6Gq5s8s"
      }
    },
    {
      "cell_type": "code",
      "source": [
        "def read_input(filename):\n",
        "    with open(filename) as f:\n",
        "        lines = [line.strip() for line in f if line.strip()]\n",
        "    size = int(lines[0])\n",
        "    start = list(map(int, lines[1].split()))\n",
        "    goal = list(map(int, lines[2].split()))\n",
        "    return size, start, goal"
      ],
      "metadata": {
        "id": "43T5vqDpOmFj"
      },
      "execution_count": 81,
      "outputs": []
    },
    {
      "cell_type": "code",
      "source": [
        "def possible_moves(size, idx):\n",
        "    row, col = divmod(idx, size)\n",
        "    moves = []\n",
        "    if row > 0: moves.append(-size)\n",
        "    if row < size-1: moves.append(size)\n",
        "    if col > 0: moves.append(-1)\n",
        "    if col < size-1: moves.append(1)\n",
        "    return moves\n",
        "\n",
        "def swap(state, i, j):\n",
        "    s = state[:]\n",
        "    s[i], s[j] = s[j], s[i]\n",
        "    return s"
      ],
      "metadata": {
        "id": "_0iJvHqlX9Tq"
      },
      "execution_count": 82,
      "outputs": []
    },
    {
      "cell_type": "code",
      "source": [
        "def dls(state, goal, size, limit, path, seen):\n",
        "    if state == goal:\n",
        "        return path + [state]\n",
        "    if limit == 0:\n",
        "        return None\n",
        "    seen.add(tuple(state))\n",
        "    blank = state.index(0)\n",
        "    for move in possible_moves(size, blank):\n",
        "        nxt = swap(state, blank, blank + move)\n",
        "        if tuple(nxt) not in seen:\n",
        "            res = dls(nxt, goal, size, limit-1, path + [state], seen)\n",
        "            if res:\n",
        "                return res\n",
        "    seen.remove(tuple(state))\n",
        "    return None"
      ],
      "metadata": {
        "id": "DwDeb3NUYAQ5"
      },
      "execution_count": 83,
      "outputs": []
    },
    {
      "cell_type": "code",
      "source": [
        "def write_steps_to_file(filename, steps, size, found):\n",
        "    with open(filename, \"w\") as f:\n",
        "        if found:\n",
        "            for idx, state in enumerate(steps):\n",
        "                if idx == len(steps) - 1:\n",
        "                    f.write(\"Output State:\\n\")\n",
        "                else:\n",
        "                    f.write(f\"Step {idx}:\\n\")\n",
        "                for i in range(size):\n",
        "                    row = state[i*size:(i+1)*size]\n",
        "                    f.write(\" \".join(str(x) for x in row) + \"\\n\")\n",
        "                f.write(\"\\n\")\n",
        "        else:\n",
        "            f.write(\"No solution within depth limit.\\n\")"
      ],
      "metadata": {
        "id": "o9f5f17SYEGJ"
      },
      "execution_count": 84,
      "outputs": []
    },
    {
      "cell_type": "code",
      "source": [
        "def main():\n",
        "    input_file = \"/content/sample_data/041_Assignment4_Sushar_Hembram_15P_input.txt\"\n",
        "    output_file = \"/content/sample_data/041_Assignment4_file_Sushar_Hembram_output.txt\"\n",
        "    depth_limit = int(input(\"Enter depth limit: \"))\n",
        "    size, start, goal = read_input(input_file)\n",
        "    print(\"Solving...\")\n",
        "    path = dls(start, goal, size, depth_limit, [], set())\n",
        "    if path:\n",
        "        print(\"Solution found in\", len(path)-1, \"moves.\")\n",
        "        write_steps_to_file(output_file, path, size, True)\n",
        "        print(\"Steps and output state written to\", output_file)\n",
        "    else:\n",
        "        print(\"No solution within depth limit.\")\n",
        "        write_steps_to_file(output_file, [], size, False)\n",
        "\n",
        "if __name__ == \"__main__\":\n",
        "    main()"
      ],
      "metadata": {
        "colab": {
          "base_uri": "https://localhost:8080/"
        },
        "id": "ikfFrPehYG4x",
        "outputId": "2e4fdfc2-614b-4c15-83e1-80aaaff130ee"
      },
      "execution_count": 86,
      "outputs": [
        {
          "output_type": "stream",
          "name": "stdout",
          "text": [
            "Enter depth limit: 10\n",
            "Solving...\n",
            "Solution found in 1 moves.\n",
            "Steps and output state written to /content/sample_data/041_Assignment4_file_Sushar_Hembram_output.txt\n"
          ]
        }
      ]
    }
  ]
}