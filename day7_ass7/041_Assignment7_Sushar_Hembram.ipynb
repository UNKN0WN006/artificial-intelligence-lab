{
  "nbformat": 4,
  "nbformat_minor": 0,
  "metadata": {
    "colab": {
      "provenance": []
    },
    "kernelspec": {
      "name": "python3",
      "display_name": "Python 3"
    },
    "language_info": {
      "name": "python"
    }
  },
  "cells": [
    {
      "cell_type": "code",
      "metadata": {
        "id": "a9d88742"
      },
      "source": [
        "import random\n",
        "import math\n",
        "import json"
      ],
      "execution_count": 60,
      "outputs": []
    },
    {
      "cell_type": "code",
      "source": [
        "def calculate_tour_cost(tour, dist_matrix):\n",
        "    cost = 0\n",
        "    n = len(tour)\n",
        "    for i in range(n):\n",
        "        curr_city = tour[i]\n",
        "        next_city = tour[(i + 1) % n]\n",
        "        cost += dist_matrix[curr_city][next_city]\n",
        "    return cost"
      ],
      "metadata": {
        "id": "mCl9gEQk4oY3"
      },
      "execution_count": 61,
      "outputs": []
    },
    {
      "cell_type": "code",
      "source": [
        "def get_neighbor_tour(curr_tour, n):\n",
        "    neighbor_tour = curr_tour[:]\n",
        "    i, j = random.sample(range(n), 2)\n",
        "    neighbor_tour[i], neighbor_tour[j] = neighbor_tour[j], neighbor_tour[i]\n",
        "    return neighbor_tour"
      ],
      "metadata": {
        "id": "-OuTqKMe4mMH"
      },
      "execution_count": 62,
      "outputs": []
    },
    {
      "cell_type": "code",
      "source": [
        "def acceptance_probability(curr_cost, neighbor_cost, temp):\n",
        "    if temp == 0:\n",
        "        return 0.0\n",
        "    if neighbor_cost < curr_cost:\n",
        "        return 1.0\n",
        "    return math.exp((curr_cost - neighbor_cost) / temp)"
      ],
      "metadata": {
        "id": "fN8eOT1W4kce"
      },
      "execution_count": 63,
      "outputs": []
    },
    {
      "cell_type": "code",
      "source": [
        "def solve_tsp_simulated_annealing(dist_matrix, start_city, init_temp, cooling_rate, iterations, output_file=\"tsp_intermediate_output.txt\"):\n",
        "    n = len(dist_matrix)\n",
        "\n",
        "    # Initial tour (Nearest Neighbor heuristic)\n",
        "    curr_tour = [start_city]\n",
        "    unvisited = list(range(n))\n",
        "    unvisited.remove(start_city)\n",
        "\n",
        "    curr_city = start_city\n",
        "    while unvisited:\n",
        "        nearest_city = None\n",
        "        min_dist = float('inf')\n",
        "        for city in unvisited:\n",
        "            if dist_matrix[curr_city][city] < min_dist:\n",
        "                min_dist = dist_matrix[curr_city][city]\n",
        "                nearest_city = city\n",
        "        curr_tour.append(nearest_city)\n",
        "        unvisited.remove(nearest_city)\n",
        "        curr_city = nearest_city\n",
        "\n",
        "    curr_cost = calculate_tour_cost(curr_tour, dist_matrix)\n",
        "\n",
        "    best_tour = curr_tour[:]\n",
        "    best_cost = curr_cost\n",
        "\n",
        "    temp = init_temp\n",
        "\n",
        "    # Simulated Annealing loop\n",
        "    with open(output_file, \"w\") as f:\n",
        "        for i in range(iterations):\n",
        "            neighbor_tour = get_neighbor_tour(curr_tour, n)\n",
        "            neighbor_cost = calculate_tour_cost(neighbor_tour, dist_matrix)\n",
        "\n",
        "            prob = acceptance_probability(curr_cost, neighbor_cost, temp)\n",
        "            rand_num = random.random()\n",
        "\n",
        "            if prob > rand_num or neighbor_cost < curr_cost:\n",
        "                curr_tour = neighbor_tour[:]\n",
        "                curr_cost = neighbor_cost\n",
        "\n",
        "            if curr_cost < best_cost:\n",
        "                best_tour = curr_tour[:]\n",
        "                best_cost = curr_cost\n",
        "\n",
        "            temp *= cooling_rate\n",
        "\n",
        "            f.write(f\"Iteration: {i+1}, Temp: {temp:.4f}, Current Tour: {curr_tour}, Current Cost: {curr_cost:.2f}\\n\")\n",
        "\n",
        "    return best_tour, best_cost"
      ],
      "metadata": {
        "id": "CNpobhXj4hk-"
      },
      "execution_count": 64,
      "outputs": []
    },
    {
      "cell_type": "code",
      "metadata": {
        "id": "2d14d486"
      },
      "source": [
        "def main():\n",
        "    # Load input data from file\n",
        "    with open(\"tsp_input.txt\", \"r\") as f:\n",
        "        lines = f.readlines()\n",
        "\n",
        "    # Parse distance matrix\n",
        "    dist_matrix = []\n",
        "    i = 0\n",
        "    while True:\n",
        "        row = list(map(int, lines[i].split()))\n",
        "        dist_matrix.append(row)\n",
        "        if len(row) != len(dist_matrix[0]): # Checking if it's the last row of the matrix\n",
        "            dist_matrix.pop() # Removing the last row\n",
        "            break\n",
        "        i += 1\n",
        "\n",
        "    start_city = int(lines[i].strip())\n",
        "    init_temp = float(lines[i+1].strip())\n",
        "    cooling_rate = float(lines[i+2].strip())\n",
        "    iterations = int(lines[i+3].strip())\n",
        "\n",
        "    # Solving TSP using Simulated Annealing\n",
        "    best_tour, best_cost = solve_tsp_simulated_annealing(dist_matrix, start_city, init_temp, cooling_rate, iterations)\n",
        "\n",
        "    with open(\"tsp_output.txt\", \"w\") as f:\n",
        "        f.write(f\"Best Tour: {best_tour}\\n\")\n",
        "        f.write(f\"Best Cost: {best_cost:.2f}\\n\")\n",
        "\n",
        "if __name__ == \"__main__\":\n",
        "    main()"
      ],
      "execution_count": 65,
      "outputs": []
    }
  ]
}